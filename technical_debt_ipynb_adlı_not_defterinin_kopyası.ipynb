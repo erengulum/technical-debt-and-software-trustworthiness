{
  "nbformat": 4,
  "nbformat_minor": 0,
  "metadata": {
    "colab": {
      "name": "technical_debt.ipynb adlı not defterinin kopyası",
      "provenance": [],
      "collapsed_sections": [],
      "toc_visible": true
    },
    "kernelspec": {
      "name": "python3",
      "display_name": "Python 3"
    }
  },
  "cells": [
    {
      "cell_type": "code",
      "metadata": {
        "id": "tOclu9iqZaI4"
      },
      "source": [
        "import numpy as np\n",
        "import matplotlib.pyplot as plt\n",
        "import pandas as pd\n",
        "import seaborn as sns\n",
        "from sklearn.preprocessing import LabelEncoder,MinMaxScaler,PolynomialFeatures\n",
        "from sklearn.model_selection import train_test_split\n",
        "from sklearn.neighbors import KNeighborsClassifier\n",
        "from sklearn.metrics import confusion_matrix,classification_report,mean_squared_error, r2_score\n",
        "from sklearn.linear_model import LinearRegression"
      ],
      "execution_count": null,
      "outputs": []
    },
    {
      "cell_type": "markdown",
      "metadata": {
        "id": "IV4Hv05heqmg"
      },
      "source": [
        "This study is based on the following article:\n",
        "\n",
        "**\"Exploring the Relation between Technical Debt and Software Trustworthiness\"**"
      ]
    },
    {
      "cell_type": "code",
      "metadata": {
        "id": "ibCOAbIiqPv0"
      },
      "source": [
        "data = pd.read_excel(\"/content/drive/My Drive/tech_debt_ml/dataset-mean-ml.xlsx\")"
      ],
      "execution_count": null,
      "outputs": []
    },
    {
      "cell_type": "markdown",
      "metadata": {
        "id": "qIlaqk0iG3RS"
      },
      "source": [
        "We selected 106 different Android projects for this research. 16 different metrics of the projects were calculated as stated in the article.\n",
        "\n",
        "External metrics were measured with Sonar, while internal Quality metrics were analyzed with the Understand tool.\n",
        "33 of the 106 projects were taken from the article, 73 of them were added later to expand the research.\n",
        "\n",
        "During the work with the Understand tool, the Java source codes of all projects were analyzed and their internal metrics were measured one by one. The average values of the metrics were taken and added to the dataset."
      ]
    },
    {
      "cell_type": "markdown",
      "metadata": {
        "id": "O7DuvlT7dxyu"
      },
      "source": [
        "**External metrics that measured with Sonar:**\n",
        "\n",
        "*   Number of Bugs\n",
        "*   Vulnerabilities\n",
        "*   Security Hotspots\n",
        "*   Code Smells\n",
        "*   Code Duplication Ratio (%)\n",
        "*   Technical Debt (hours)\n",
        "\n",
        "\n",
        "\n",
        "---\n",
        "\n",
        "\n",
        "\n",
        "**Internal metrics measured with Understand:**\n",
        "*   NOC->CountClassDerived\n",
        "*   CBO->CountClassCoupled\n",
        "*   LCOM->PercentLackOfCohesion\n",
        "*   FanIn->CountInput\n",
        "*   FanOut->CountOutput\n",
        "*   RFC->CountDeclMethodAll\n",
        "*   DIT->MaxInheritanceTree\n",
        "*   WMC->SumCyclomatic\n",
        "*   LOC->CountLineCode\n",
        "*   CLOC->CountLineComment\n",
        "\n",
        "\n",
        "\n"
      ]
    },
    {
      "cell_type": "code",
      "metadata": {
        "id": "SGIFEPOva0aC",
        "colab": {
          "base_uri": "https://localhost:8080/",
          "height": 420
        },
        "outputId": "beffeec9-fecf-4241-d946-476de32c1271"
      },
      "source": [
        "data.info()"
      ],
      "execution_count": null,
      "outputs": [
        {
          "output_type": "stream",
          "text": [
            "<class 'pandas.core.frame.DataFrame'>\n",
            "RangeIndex: 106 entries, 0 to 105\n",
            "Data columns (total 17 columns):\n",
            " #   Column                 Non-Null Count  Dtype  \n",
            "---  ------                 --------------  -----  \n",
            " 0   Name                   106 non-null    object \n",
            " 1   Bugs                   106 non-null    int64  \n",
            " 2   Vulnerabilities        106 non-null    int64  \n",
            " 3   Security Hotspots      106 non-null    int64  \n",
            " 4   Code Smells            106 non-null    int64  \n",
            " 5   Code Duplication       106 non-null    float64\n",
            " 6   Debt                   106 non-null    float64\n",
            " 7   CountClassDerived      106 non-null    float64\n",
            " 8   CountClassCoupled      106 non-null    float64\n",
            " 9   CountDeclMethodAll     106 non-null    float64\n",
            " 10  CountLineCode          106 non-null    float64\n",
            " 11  CountLineComment       106 non-null    float64\n",
            " 12  CountInput             106 non-null    float64\n",
            " 13  CountOutput            106 non-null    float64\n",
            " 14  PercentLackOfCohesion  106 non-null    float64\n",
            " 15  SumCyclomatic          106 non-null    float64\n",
            " 16  MaxInheritanceTree     106 non-null    float64\n",
            "dtypes: float64(12), int64(4), object(1)\n",
            "memory usage: 14.2+ KB\n"
          ],
          "name": "stdout"
        }
      ]
    },
    {
      "cell_type": "code",
      "metadata": {
        "id": "fx-f55xagAWi",
        "colab": {
          "base_uri": "https://localhost:8080/",
          "height": 240
        },
        "outputId": "d284df5e-0f3e-4c15-ec86-f33b1dbb14a9"
      },
      "source": [
        "data.head(3) #First 3 samples of the our dataset:"
      ],
      "execution_count": null,
      "outputs": [
        {
          "output_type": "execute_result",
          "data": {
            "text/html": [
              "<div>\n",
              "<style scoped>\n",
              "    .dataframe tbody tr th:only-of-type {\n",
              "        vertical-align: middle;\n",
              "    }\n",
              "\n",
              "    .dataframe tbody tr th {\n",
              "        vertical-align: top;\n",
              "    }\n",
              "\n",
              "    .dataframe thead th {\n",
              "        text-align: right;\n",
              "    }\n",
              "</style>\n",
              "<table border=\"1\" class=\"dataframe\">\n",
              "  <thead>\n",
              "    <tr style=\"text-align: right;\">\n",
              "      <th></th>\n",
              "      <th>Name</th>\n",
              "      <th>Bugs</th>\n",
              "      <th>Vulnerabilities</th>\n",
              "      <th>Security Hotspots</th>\n",
              "      <th>Code Smells</th>\n",
              "      <th>Code Duplication</th>\n",
              "      <th>Debt</th>\n",
              "      <th>CountClassDerived</th>\n",
              "      <th>CountClassCoupled</th>\n",
              "      <th>CountDeclMethodAll</th>\n",
              "      <th>CountLineCode</th>\n",
              "      <th>CountLineComment</th>\n",
              "      <th>CountInput</th>\n",
              "      <th>CountOutput</th>\n",
              "      <th>PercentLackOfCohesion</th>\n",
              "      <th>SumCyclomatic</th>\n",
              "      <th>MaxInheritanceTree</th>\n",
              "    </tr>\n",
              "  </thead>\n",
              "  <tbody>\n",
              "    <tr>\n",
              "      <th>0</th>\n",
              "      <td>04-android_vtv_movies-master.csv</td>\n",
              "      <td>31</td>\n",
              "      <td>41</td>\n",
              "      <td>5</td>\n",
              "      <td>986</td>\n",
              "      <td>3.2</td>\n",
              "      <td>144.0</td>\n",
              "      <td>0.318182</td>\n",
              "      <td>1.821212</td>\n",
              "      <td>9.030303</td>\n",
              "      <td>22.575592</td>\n",
              "      <td>7.420765</td>\n",
              "      <td>2.660731</td>\n",
              "      <td>2.536073</td>\n",
              "      <td>25.01235</td>\n",
              "      <td>4.886703</td>\n",
              "      <td>1.445455</td>\n",
              "    </tr>\n",
              "    <tr>\n",
              "      <th>1</th>\n",
              "      <td>08-android-emulator-plugin-master.csv</td>\n",
              "      <td>24</td>\n",
              "      <td>14</td>\n",
              "      <td>72</td>\n",
              "      <td>180</td>\n",
              "      <td>0.8</td>\n",
              "      <td>20.0</td>\n",
              "      <td>0.260417</td>\n",
              "      <td>2.729167</td>\n",
              "      <td>7.708333</td>\n",
              "      <td>39.121131</td>\n",
              "      <td>7.942127</td>\n",
              "      <td>3.451282</td>\n",
              "      <td>4.131624</td>\n",
              "      <td>16.28736</td>\n",
              "      <td>5.792732</td>\n",
              "      <td>1.677083</td>\n",
              "    </tr>\n",
              "    <tr>\n",
              "      <th>2</th>\n",
              "      <td>09-AndroidEntryManagerSonar-master.csv</td>\n",
              "      <td>0</td>\n",
              "      <td>0</td>\n",
              "      <td>1</td>\n",
              "      <td>172</td>\n",
              "      <td>5.1</td>\n",
              "      <td>15.0</td>\n",
              "      <td>0.030928</td>\n",
              "      <td>1.876289</td>\n",
              "      <td>6.752577</td>\n",
              "      <td>26.702635</td>\n",
              "      <td>3.391468</td>\n",
              "      <td>1.929771</td>\n",
              "      <td>2.882443</td>\n",
              "      <td>23.65979</td>\n",
              "      <td>4.361355</td>\n",
              "      <td>1.670103</td>\n",
              "    </tr>\n",
              "  </tbody>\n",
              "</table>\n",
              "</div>"
            ],
            "text/plain": [
              "                                     Name  ...  MaxInheritanceTree\n",
              "0        04-android_vtv_movies-master.csv  ...            1.445455\n",
              "1   08-android-emulator-plugin-master.csv  ...            1.677083\n",
              "2  09-AndroidEntryManagerSonar-master.csv  ...            1.670103\n",
              "\n",
              "[3 rows x 17 columns]"
            ]
          },
          "metadata": {
            "tags": []
          },
          "execution_count": 5
        }
      ]
    },
    {
      "cell_type": "code",
      "metadata": {
        "id": "5S0Fvtn3fqum",
        "colab": {
          "base_uri": "https://localhost:8080/",
          "height": 809
        },
        "outputId": "7220686a-59aa-4a66-8b35-8dc1d89a6ca5"
      },
      "source": [
        "def plotHist(columnName,colorName):\n",
        "  plt.hist(data[columnName].to_numpy(),color=colorName)\n",
        "  plt.title(\"Distribution of \"+ columnName)\n",
        "  plt.show()\n",
        "\n",
        "\n",
        "plotHist(\"Debt\",\"g\")\n",
        "plotHist(\"Bugs\",\"r\")\n",
        "plotHist(\"SumCyclomatic\",\"black\")\n",
        "\n",
        "#Since the Technical Debt isn't normalized very well, we are going to use Pearson Correlation"
      ],
      "execution_count": null,
      "outputs": [
        {
          "output_type": "display_data",
          "data": {
            "image/png": "[encoded data removed]",
            "text/plain": [
              "<Figure size 432x288 with 1 Axes>"
            ]
          },
          "metadata": {
            "tags": [],
            "needs_background": "light"
          }
        },
        {
          "output_type": "display_data",
          "data": {
            "image/png": "[encoded data removed]",
            "text/plain": [
              "<Figure size 432x288 with 1 Axes>"
            ]
          },
          "metadata": {
            "tags": [],
            "needs_background": "light"
          }
        },
        {
          "output_type": "display_data",
          "data": {
            "image/png": "[encoded data removed]",
            "text/plain": [
              "<Figure size 432x288 with 1 Axes>"
            ]
          },
          "metadata": {
            "tags": [],
            "needs_background": "light"
          }
        }
      ]
    },
    {
      "cell_type": "markdown",
      "metadata": {
        "id": "85vSAjQ8b_Qw"
      },
      "source": [
        "After the visualizations made with graphics, we see that our data is not distributed in accordance with the Normal Distribution. Therefore,  we will prefer Spearman Correlation method instead of Pearson correlation.\n",
        "\n",
        "**Since we have different data types and ranges in our data set, min-max normalization has been applied to all the data we have:**"
      ]
    },
    {
      "cell_type": "code",
      "metadata": {
        "id": "IpoWMRUMa_vi"
      },
      "source": [
        "#Min max scaler for all data\n",
        "scaler = MinMaxScaler()\n",
        "data.iloc[:,1:] = scaler.fit_transform(data.iloc[:,1:])"
      ],
      "execution_count": null,
      "outputs": []
    },
    {
      "cell_type": "code",
      "metadata": {
        "id": "7bR7IHT3cqCE",
        "colab": {
          "base_uri": "https://localhost:8080/",
          "height": 321
        },
        "outputId": "83fcd97e-afef-412e-bd11-caaaac201b9a"
      },
      "source": [
        "data.describe()"
      ],
      "execution_count": null,
      "outputs": [
        {
          "output_type": "execute_result",
          "data": {
            "text/html": [
              "<div>\n",
              "<style scoped>\n",
              "    .dataframe tbody tr th:only-of-type {\n",
              "        vertical-align: middle;\n",
              "    }\n",
              "\n",
              "    .dataframe tbody tr th {\n",
              "        vertical-align: top;\n",
              "    }\n",
              "\n",
              "    .dataframe thead th {\n",
              "        text-align: right;\n",
              "    }\n",
              "</style>\n",
              "<table border=\"1\" class=\"dataframe\">\n",
              "  <thead>\n",
              "    <tr style=\"text-align: right;\">\n",
              "      <th></th>\n",
              "      <th>Bugs</th>\n",
              "      <th>Vulnerabilities</th>\n",
              "      <th>Security Hotspots</th>\n",
              "      <th>Code Smells</th>\n",
              "      <th>Code Duplication</th>\n",
              "      <th>Debt</th>\n",
              "      <th>CountClassDerived</th>\n",
              "      <th>CountClassCoupled</th>\n",
              "      <th>CountDeclMethodAll</th>\n",
              "      <th>CountLineCode</th>\n",
              "      <th>CountLineComment</th>\n",
              "      <th>CountInput</th>\n",
              "      <th>CountOutput</th>\n",
              "      <th>PercentLackOfCohesion</th>\n",
              "      <th>SumCyclomatic</th>\n",
              "      <th>MaxInheritanceTree</th>\n",
              "    </tr>\n",
              "  </thead>\n",
              "  <tbody>\n",
              "    <tr>\n",
              "      <th>count</th>\n",
              "      <td>106.000000</td>\n",
              "      <td>106.000000</td>\n",
              "      <td>106.000000</td>\n",
              "      <td>106.000000</td>\n",
              "      <td>106.000000</td>\n",
              "      <td>106.000000</td>\n",
              "      <td>106.000000</td>\n",
              "      <td>106.000000</td>\n",
              "      <td>106.000000</td>\n",
              "      <td>106.000000</td>\n",
              "      <td>106.000000</td>\n",
              "      <td>106.000000</td>\n",
              "      <td>106.000000</td>\n",
              "      <td>106.000000</td>\n",
              "      <td>106.000000</td>\n",
              "      <td>106.000000</td>\n",
              "    </tr>\n",
              "    <tr>\n",
              "      <th>mean</th>\n",
              "      <td>0.060406</td>\n",
              "      <td>0.089623</td>\n",
              "      <td>0.138441</td>\n",
              "      <td>0.121435</td>\n",
              "      <td>0.114402</td>\n",
              "      <td>0.117754</td>\n",
              "      <td>0.252741</td>\n",
              "      <td>0.521089</td>\n",
              "      <td>0.253160</td>\n",
              "      <td>0.353026</td>\n",
              "      <td>0.201125</td>\n",
              "      <td>0.439979</td>\n",
              "      <td>0.600318</td>\n",
              "      <td>0.459449</td>\n",
              "      <td>0.458766</td>\n",
              "      <td>0.698045</td>\n",
              "    </tr>\n",
              "    <tr>\n",
              "      <th>std</th>\n",
              "      <td>0.133719</td>\n",
              "      <td>0.174023</td>\n",
              "      <td>0.216211</td>\n",
              "      <td>0.172243</td>\n",
              "      <td>0.181750</td>\n",
              "      <td>0.166572</td>\n",
              "      <td>0.209529</td>\n",
              "      <td>0.221667</td>\n",
              "      <td>0.157739</td>\n",
              "      <td>0.192267</td>\n",
              "      <td>0.184416</td>\n",
              "      <td>0.143089</td>\n",
              "      <td>0.165977</td>\n",
              "      <td>0.197633</td>\n",
              "      <td>0.180766</td>\n",
              "      <td>0.152068</td>\n",
              "    </tr>\n",
              "    <tr>\n",
              "      <th>min</th>\n",
              "      <td>0.000000</td>\n",
              "      <td>0.000000</td>\n",
              "      <td>0.000000</td>\n",
              "      <td>0.000000</td>\n",
              "      <td>0.000000</td>\n",
              "      <td>0.000000</td>\n",
              "      <td>0.000000</td>\n",
              "      <td>0.000000</td>\n",
              "      <td>0.000000</td>\n",
              "      <td>0.000000</td>\n",
              "      <td>0.000000</td>\n",
              "      <td>0.000000</td>\n",
              "      <td>0.000000</td>\n",
              "      <td>0.000000</td>\n",
              "      <td>0.000000</td>\n",
              "      <td>0.000000</td>\n",
              "    </tr>\n",
              "    <tr>\n",
              "      <th>25%</th>\n",
              "      <td>0.000000</td>\n",
              "      <td>0.000000</td>\n",
              "      <td>0.000000</td>\n",
              "      <td>0.014357</td>\n",
              "      <td>0.000000</td>\n",
              "      <td>0.019452</td>\n",
              "      <td>0.064668</td>\n",
              "      <td>0.370998</td>\n",
              "      <td>0.146700</td>\n",
              "      <td>0.221228</td>\n",
              "      <td>0.076072</td>\n",
              "      <td>0.363879</td>\n",
              "      <td>0.502673</td>\n",
              "      <td>0.328595</td>\n",
              "      <td>0.347737</td>\n",
              "      <td>0.614363</td>\n",
              "    </tr>\n",
              "    <tr>\n",
              "      <th>50%</th>\n",
              "      <td>0.013433</td>\n",
              "      <td>0.023006</td>\n",
              "      <td>0.036145</td>\n",
              "      <td>0.049225</td>\n",
              "      <td>0.045852</td>\n",
              "      <td>0.056122</td>\n",
              "      <td>0.236537</td>\n",
              "      <td>0.526231</td>\n",
              "      <td>0.221829</td>\n",
              "      <td>0.308550</td>\n",
              "      <td>0.141302</td>\n",
              "      <td>0.437671</td>\n",
              "      <td>0.618659</td>\n",
              "      <td>0.462930</td>\n",
              "      <td>0.429517</td>\n",
              "      <td>0.715127</td>\n",
              "    </tr>\n",
              "    <tr>\n",
              "      <th>75%</th>\n",
              "      <td>0.064179</td>\n",
              "      <td>0.073620</td>\n",
              "      <td>0.177711</td>\n",
              "      <td>0.148587</td>\n",
              "      <td>0.138646</td>\n",
              "      <td>0.142857</td>\n",
              "      <td>0.364975</td>\n",
              "      <td>0.665194</td>\n",
              "      <td>0.318650</td>\n",
              "      <td>0.482179</td>\n",
              "      <td>0.261387</td>\n",
              "      <td>0.518743</td>\n",
              "      <td>0.691435</td>\n",
              "      <td>0.572134</td>\n",
              "      <td>0.524462</td>\n",
              "      <td>0.787941</td>\n",
              "    </tr>\n",
              "    <tr>\n",
              "      <th>max</th>\n",
              "      <td>1.000000</td>\n",
              "      <td>1.000000</td>\n",
              "      <td>1.000000</td>\n",
              "      <td>1.000000</td>\n",
              "      <td>1.000000</td>\n",
              "      <td>1.000000</td>\n",
              "      <td>1.000000</td>\n",
              "      <td>1.000000</td>\n",
              "      <td>1.000000</td>\n",
              "      <td>1.000000</td>\n",
              "      <td>1.000000</td>\n",
              "      <td>1.000000</td>\n",
              "      <td>1.000000</td>\n",
              "      <td>1.000000</td>\n",
              "      <td>1.000000</td>\n",
              "      <td>1.000000</td>\n",
              "    </tr>\n",
              "  </tbody>\n",
              "</table>\n",
              "</div>"
            ],
            "text/plain": [
              "             Bugs  Vulnerabilities  ...  SumCyclomatic  MaxInheritanceTree\n",
              "count  106.000000       106.000000  ...     106.000000          106.000000\n",
              "mean     0.060406         0.089623  ...       0.458766            0.698045\n",
              "std      0.133719         0.174023  ...       0.180766            0.152068\n",
              "min      0.000000         0.000000  ...       0.000000            0.000000\n",
              "25%      0.000000         0.000000  ...       0.347737            0.614363\n",
              "50%      0.013433         0.023006  ...       0.429517            0.715127\n",
              "75%      0.064179         0.073620  ...       0.524462            0.787941\n",
              "max      1.000000         1.000000  ...       1.000000            1.000000\n",
              "\n",
              "[8 rows x 16 columns]"
            ]
          },
          "metadata": {
            "tags": []
          },
          "execution_count": 8
        }
      ]
    },
    {
      "cell_type": "markdown",
      "metadata": {
        "id": "S596NQE1-hWP"
      },
      "source": [
        "# RESEARCH METHOD\n",
        "\n",
        "We will conduct our research similar to what is written in the article. We will carry out the work in two different stages."
      ]
    },
    {
      "cell_type": "markdown",
      "metadata": {
        "id": "3ShaqqeVJ3_H"
      },
      "source": [
        "# Phase 1: \n",
        "Investigating the relationships between CK and additional design level metrics as indicators of internal quality with external quality metrics for the evaluation of trustworthiness. We evaluate the trustworthiness with internal and external metrics separately for reliability and security quality attributes.\n",
        "\n",
        " The research question 1 (RQ1) serves the phase 1 objective as below:\n",
        " # RQ1:\n",
        "  Is there any relationship between internal quality metrics (CK and additional metrics) and external quality metrics of trustworthiness?\n",
        "\n",
        "We explore the relation between TD and trustworthiness metrics through the hypothesis given below:\n",
        "\n",
        "*  H1 Complexity metrics positively correlate to the number of vulnerabilities\n",
        "*  H2 Complexity metrics positively correlate to the number of bugs\n",
        "*  H3 Complexity metrics positively correlate to the number of security hotspots\n",
        "*  H4 Complexity metrics positively correlate to the number of code smells\n",
        "\n",
        "\n",
        "---\n",
        "\n",
        "\n",
        "*  H5 Coupling metrics positively correlate to the number of vulnerabilities.\n",
        "*  H6 Coupling metrics positively correlate to the number of bugs.\n",
        "*  H7 Coupling metrics positively correlate to the number of security hotspots\n",
        "*  H8 Coupling metrics positively correlate to the number of code smells.\n",
        "\n",
        "\n",
        "---\n",
        "*  H9 Cohesion metric negatively correlate to the number of vulnerabilities.\n",
        "*  H10 Cohesion metric negatively correlate to the number of bugs.\n",
        "*  H11 Cohesion metric negatively correlate to the number of security hotspots.\n",
        "*  H12 Cohesion metric negatively correlate to the number of code smells"
      ]
    },
    {
      "cell_type": "markdown",
      "metadata": {
        "id": "Vr-STXVlh_om"
      },
      "source": [
        "\n",
        "---\n",
        "\n",
        "---\n",
        "\n",
        "---\n",
        "\n",
        "\n"
      ]
    },
    {
      "cell_type": "markdown",
      "metadata": {
        "id": "Z1nrirbIE6Lu"
      },
      "source": [
        "# Correlation Matrix of the metrics\n",
        "\n",
        "First, we will examine the correlations between metric values. As we have seen above, we will use the Spearman Correlation since the data are not suitable for Normal Distribution.\n",
        "\n",
        "We followed the significance level (ρ) between each metric and considered the relation significance if the significance level is under 0.1 (<10%)\n",
        "\n",
        "---\n",
        "\n",
        "---\n",
        "\n",
        "---\n",
        "\n",
        "• 0 < rs <= 0.25 : weak relationship\n",
        "\n",
        "• 0.25 < rs <= 0.75 : intermediate relationship\n",
        "\n",
        "• rs > 0.75 : strong relationship\n",
        "\n",
        "\n",
        "\n",
        "\n"
      ]
    },
    {
      "cell_type": "code",
      "metadata": {
        "id": "MZcGd4uIFkjH",
        "colab": {
          "base_uri": "https://localhost:8080/",
          "height": 558
        },
        "outputId": "7bd5c145-eade-47d6-e119-e19bca489011"
      },
      "source": [
        "corrMatrix = data.iloc[:,1:].corr(method=\"spearman\")\n",
        "corrMatrix"
      ],
      "execution_count": null,
      "outputs": [
        {
          "output_type": "execute_result",
          "data": {
            "text/html": [
              "<div>\n",
              "<style scoped>\n",
              "    .dataframe tbody tr th:only-of-type {\n",
              "        vertical-align: middle;\n",
              "    }\n",
              "\n",
              "    .dataframe tbody tr th {\n",
              "        vertical-align: top;\n",
              "    }\n",
              "\n",
              "    .dataframe thead th {\n",
              "        text-align: right;\n",
              "    }\n",
              "</style>\n",
              "<table border=\"1\" class=\"dataframe\">\n",
              "  <thead>\n",
              "    <tr style=\"text-align: right;\">\n",
              "      <th></th>\n",
              "      <th>Bugs</th>\n",
              "      <th>Vulnerabilities</th>\n",
              "      <th>Security Hotspots</th>\n",
              "      <th>Code Smells</th>\n",
              "      <th>Code Duplication</th>\n",
              "      <th>Debt</th>\n",
              "      <th>CountClassDerived</th>\n",
              "      <th>CountClassCoupled</th>\n",
              "      <th>CountDeclMethodAll</th>\n",
              "      <th>CountLineCode</th>\n",
              "      <th>CountLineComment</th>\n",
              "      <th>CountInput</th>\n",
              "      <th>CountOutput</th>\n",
              "      <th>PercentLackOfCohesion</th>\n",
              "      <th>SumCyclomatic</th>\n",
              "      <th>MaxInheritanceTree</th>\n",
              "    </tr>\n",
              "  </thead>\n",
              "  <tbody>\n",
              "    <tr>\n",
              "      <th>Bugs</th>\n",
              "      <td>1.000000</td>\n",
              "      <td>0.724622</td>\n",
              "      <td>0.606188</td>\n",
              "      <td>0.738145</td>\n",
              "      <td>0.364621</td>\n",
              "      <td>0.703819</td>\n",
              "      <td>0.297485</td>\n",
              "      <td>0.380010</td>\n",
              "      <td>0.430701</td>\n",
              "      <td>0.355587</td>\n",
              "      <td>0.377180</td>\n",
              "      <td>0.425866</td>\n",
              "      <td>0.185443</td>\n",
              "      <td>0.218844</td>\n",
              "      <td>0.570075</td>\n",
              "      <td>0.216627</td>\n",
              "    </tr>\n",
              "    <tr>\n",
              "      <th>Vulnerabilities</th>\n",
              "      <td>0.724622</td>\n",
              "      <td>1.000000</td>\n",
              "      <td>0.600064</td>\n",
              "      <td>0.735577</td>\n",
              "      <td>0.349814</td>\n",
              "      <td>0.710896</td>\n",
              "      <td>0.267589</td>\n",
              "      <td>0.382614</td>\n",
              "      <td>0.320382</td>\n",
              "      <td>0.328213</td>\n",
              "      <td>0.269131</td>\n",
              "      <td>0.457587</td>\n",
              "      <td>0.233264</td>\n",
              "      <td>0.214434</td>\n",
              "      <td>0.480178</td>\n",
              "      <td>0.177040</td>\n",
              "    </tr>\n",
              "    <tr>\n",
              "      <th>Security Hotspots</th>\n",
              "      <td>0.606188</td>\n",
              "      <td>0.600064</td>\n",
              "      <td>1.000000</td>\n",
              "      <td>0.585844</td>\n",
              "      <td>0.319373</td>\n",
              "      <td>0.518403</td>\n",
              "      <td>0.421256</td>\n",
              "      <td>0.504185</td>\n",
              "      <td>0.434440</td>\n",
              "      <td>0.223010</td>\n",
              "      <td>0.311246</td>\n",
              "      <td>0.436416</td>\n",
              "      <td>0.178839</td>\n",
              "      <td>0.059861</td>\n",
              "      <td>0.455932</td>\n",
              "      <td>0.119657</td>\n",
              "    </tr>\n",
              "    <tr>\n",
              "      <th>Code Smells</th>\n",
              "      <td>0.738145</td>\n",
              "      <td>0.735577</td>\n",
              "      <td>0.585844</td>\n",
              "      <td>1.000000</td>\n",
              "      <td>0.489678</td>\n",
              "      <td>0.886459</td>\n",
              "      <td>0.270827</td>\n",
              "      <td>0.514722</td>\n",
              "      <td>0.394143</td>\n",
              "      <td>0.416221</td>\n",
              "      <td>0.281622</td>\n",
              "      <td>0.459325</td>\n",
              "      <td>0.289352</td>\n",
              "      <td>0.222347</td>\n",
              "      <td>0.568335</td>\n",
              "      <td>0.188230</td>\n",
              "    </tr>\n",
              "    <tr>\n",
              "      <th>Code Duplication</th>\n",
              "      <td>0.364621</td>\n",
              "      <td>0.349814</td>\n",
              "      <td>0.319373</td>\n",
              "      <td>0.489678</td>\n",
              "      <td>1.000000</td>\n",
              "      <td>0.487574</td>\n",
              "      <td>0.057926</td>\n",
              "      <td>0.173636</td>\n",
              "      <td>0.129771</td>\n",
              "      <td>0.205527</td>\n",
              "      <td>0.101373</td>\n",
              "      <td>0.163667</td>\n",
              "      <td>0.103305</td>\n",
              "      <td>0.046703</td>\n",
              "      <td>0.221253</td>\n",
              "      <td>0.181565</td>\n",
              "    </tr>\n",
              "    <tr>\n",
              "      <th>Debt</th>\n",
              "      <td>0.703819</td>\n",
              "      <td>0.710896</td>\n",
              "      <td>0.518403</td>\n",
              "      <td>0.886459</td>\n",
              "      <td>0.487574</td>\n",
              "      <td>1.000000</td>\n",
              "      <td>0.237925</td>\n",
              "      <td>0.455446</td>\n",
              "      <td>0.298160</td>\n",
              "      <td>0.326835</td>\n",
              "      <td>0.232000</td>\n",
              "      <td>0.423365</td>\n",
              "      <td>0.241773</td>\n",
              "      <td>0.170640</td>\n",
              "      <td>0.459256</td>\n",
              "      <td>0.282741</td>\n",
              "    </tr>\n",
              "    <tr>\n",
              "      <th>CountClassDerived</th>\n",
              "      <td>0.297485</td>\n",
              "      <td>0.267589</td>\n",
              "      <td>0.421256</td>\n",
              "      <td>0.270827</td>\n",
              "      <td>0.057926</td>\n",
              "      <td>0.237925</td>\n",
              "      <td>1.000000</td>\n",
              "      <td>0.566083</td>\n",
              "      <td>0.607410</td>\n",
              "      <td>-0.235562</td>\n",
              "      <td>0.219155</td>\n",
              "      <td>0.110731</td>\n",
              "      <td>-0.248782</td>\n",
              "      <td>0.036074</td>\n",
              "      <td>0.103160</td>\n",
              "      <td>-0.110677</td>\n",
              "    </tr>\n",
              "    <tr>\n",
              "      <th>CountClassCoupled</th>\n",
              "      <td>0.380010</td>\n",
              "      <td>0.382614</td>\n",
              "      <td>0.504185</td>\n",
              "      <td>0.514722</td>\n",
              "      <td>0.173636</td>\n",
              "      <td>0.455446</td>\n",
              "      <td>0.566083</td>\n",
              "      <td>1.000000</td>\n",
              "      <td>0.501029</td>\n",
              "      <td>0.126405</td>\n",
              "      <td>0.207889</td>\n",
              "      <td>0.551577</td>\n",
              "      <td>0.187031</td>\n",
              "      <td>0.172773</td>\n",
              "      <td>0.443909</td>\n",
              "      <td>0.018680</td>\n",
              "    </tr>\n",
              "    <tr>\n",
              "      <th>CountDeclMethodAll</th>\n",
              "      <td>0.430701</td>\n",
              "      <td>0.320382</td>\n",
              "      <td>0.434440</td>\n",
              "      <td>0.394143</td>\n",
              "      <td>0.129771</td>\n",
              "      <td>0.298160</td>\n",
              "      <td>0.607410</td>\n",
              "      <td>0.501029</td>\n",
              "      <td>1.000000</td>\n",
              "      <td>0.039908</td>\n",
              "      <td>0.427598</td>\n",
              "      <td>0.289471</td>\n",
              "      <td>-0.086703</td>\n",
              "      <td>0.485574</td>\n",
              "      <td>0.456625</td>\n",
              "      <td>0.083704</td>\n",
              "    </tr>\n",
              "    <tr>\n",
              "      <th>CountLineCode</th>\n",
              "      <td>0.355587</td>\n",
              "      <td>0.328213</td>\n",
              "      <td>0.223010</td>\n",
              "      <td>0.416221</td>\n",
              "      <td>0.205527</td>\n",
              "      <td>0.326835</td>\n",
              "      <td>-0.235562</td>\n",
              "      <td>0.126405</td>\n",
              "      <td>0.039908</td>\n",
              "      <td>1.000000</td>\n",
              "      <td>0.246720</td>\n",
              "      <td>0.649233</td>\n",
              "      <td>0.699816</td>\n",
              "      <td>-0.060640</td>\n",
              "      <td>0.722095</td>\n",
              "      <td>0.230819</td>\n",
              "    </tr>\n",
              "    <tr>\n",
              "      <th>CountLineComment</th>\n",
              "      <td>0.377180</td>\n",
              "      <td>0.269131</td>\n",
              "      <td>0.311246</td>\n",
              "      <td>0.281622</td>\n",
              "      <td>0.101373</td>\n",
              "      <td>0.232000</td>\n",
              "      <td>0.219155</td>\n",
              "      <td>0.207889</td>\n",
              "      <td>0.427598</td>\n",
              "      <td>0.246720</td>\n",
              "      <td>1.000000</td>\n",
              "      <td>0.393620</td>\n",
              "      <td>0.098784</td>\n",
              "      <td>0.114816</td>\n",
              "      <td>0.441911</td>\n",
              "      <td>0.014057</td>\n",
              "    </tr>\n",
              "    <tr>\n",
              "      <th>CountInput</th>\n",
              "      <td>0.425866</td>\n",
              "      <td>0.457587</td>\n",
              "      <td>0.436416</td>\n",
              "      <td>0.459325</td>\n",
              "      <td>0.163667</td>\n",
              "      <td>0.423365</td>\n",
              "      <td>0.110731</td>\n",
              "      <td>0.551577</td>\n",
              "      <td>0.289471</td>\n",
              "      <td>0.649233</td>\n",
              "      <td>0.393620</td>\n",
              "      <td>1.000000</td>\n",
              "      <td>0.728974</td>\n",
              "      <td>0.169531</td>\n",
              "      <td>0.789100</td>\n",
              "      <td>0.187052</td>\n",
              "    </tr>\n",
              "    <tr>\n",
              "      <th>CountOutput</th>\n",
              "      <td>0.185443</td>\n",
              "      <td>0.233264</td>\n",
              "      <td>0.178839</td>\n",
              "      <td>0.289352</td>\n",
              "      <td>0.103305</td>\n",
              "      <td>0.241773</td>\n",
              "      <td>-0.248782</td>\n",
              "      <td>0.187031</td>\n",
              "      <td>-0.086703</td>\n",
              "      <td>0.699816</td>\n",
              "      <td>0.098784</td>\n",
              "      <td>0.728974</td>\n",
              "      <td>1.000000</td>\n",
              "      <td>-0.009981</td>\n",
              "      <td>0.575752</td>\n",
              "      <td>0.262263</td>\n",
              "    </tr>\n",
              "    <tr>\n",
              "      <th>PercentLackOfCohesion</th>\n",
              "      <td>0.218844</td>\n",
              "      <td>0.214434</td>\n",
              "      <td>0.059861</td>\n",
              "      <td>0.222347</td>\n",
              "      <td>0.046703</td>\n",
              "      <td>0.170640</td>\n",
              "      <td>0.036074</td>\n",
              "      <td>0.172773</td>\n",
              "      <td>0.485574</td>\n",
              "      <td>-0.060640</td>\n",
              "      <td>0.114816</td>\n",
              "      <td>0.169531</td>\n",
              "      <td>-0.009981</td>\n",
              "      <td>1.000000</td>\n",
              "      <td>0.230952</td>\n",
              "      <td>-0.006600</td>\n",
              "    </tr>\n",
              "    <tr>\n",
              "      <th>SumCyclomatic</th>\n",
              "      <td>0.570075</td>\n",
              "      <td>0.480178</td>\n",
              "      <td>0.455932</td>\n",
              "      <td>0.568335</td>\n",
              "      <td>0.221253</td>\n",
              "      <td>0.459256</td>\n",
              "      <td>0.103160</td>\n",
              "      <td>0.443909</td>\n",
              "      <td>0.456625</td>\n",
              "      <td>0.722095</td>\n",
              "      <td>0.441911</td>\n",
              "      <td>0.789100</td>\n",
              "      <td>0.575752</td>\n",
              "      <td>0.230952</td>\n",
              "      <td>1.000000</td>\n",
              "      <td>0.298730</td>\n",
              "    </tr>\n",
              "    <tr>\n",
              "      <th>MaxInheritanceTree</th>\n",
              "      <td>0.216627</td>\n",
              "      <td>0.177040</td>\n",
              "      <td>0.119657</td>\n",
              "      <td>0.188230</td>\n",
              "      <td>0.181565</td>\n",
              "      <td>0.282741</td>\n",
              "      <td>-0.110677</td>\n",
              "      <td>0.018680</td>\n",
              "      <td>0.083704</td>\n",
              "      <td>0.230819</td>\n",
              "      <td>0.014057</td>\n",
              "      <td>0.187052</td>\n",
              "      <td>0.262263</td>\n",
              "      <td>-0.006600</td>\n",
              "      <td>0.298730</td>\n",
              "      <td>1.000000</td>\n",
              "    </tr>\n",
              "  </tbody>\n",
              "</table>\n",
              "</div>"
            ],
            "text/plain": [
              "                           Bugs  ...  MaxInheritanceTree\n",
              "Bugs                   1.000000  ...            0.216627\n",
              "Vulnerabilities        0.724622  ...            0.177040\n",
              "Security Hotspots      0.606188  ...            0.119657\n",
              "Code Smells            0.738145  ...            0.188230\n",
              "Code Duplication       0.364621  ...            0.181565\n",
              "Debt                   0.703819  ...            0.282741\n",
              "CountClassDerived      0.297485  ...           -0.110677\n",
              "CountClassCoupled      0.380010  ...            0.018680\n",
              "CountDeclMethodAll     0.430701  ...            0.083704\n",
              "CountLineCode          0.355587  ...            0.230819\n",
              "CountLineComment       0.377180  ...            0.014057\n",
              "CountInput             0.425866  ...            0.187052\n",
              "CountOutput            0.185443  ...            0.262263\n",
              "PercentLackOfCohesion  0.218844  ...           -0.006600\n",
              "SumCyclomatic          0.570075  ...            0.298730\n",
              "MaxInheritanceTree     0.216627  ...            1.000000\n",
              "\n",
              "[16 rows x 16 columns]"
            ]
          },
          "metadata": {
            "tags": []
          },
          "execution_count": 9
        }
      ]
    },
    {
      "cell_type": "code",
      "metadata": {
        "id": "ySKahFCydhRx",
        "colab": {
          "base_uri": "https://localhost:8080/",
          "height": 574
        },
        "outputId": "625c5130-15ad-4e0e-bcc7-e449d3df994e"
      },
      "source": [
        "#P Value\n",
        "\n",
        "from scipy.stats import spearmanr,pearsonr\n",
        "\n",
        "def pearsonr_pval(x,y):\n",
        "    return float(\"{:.4f}\".format(pearsonr(x,y)[1]))\n",
        "\n",
        "def spearmanr_pval(x,y):\n",
        "    return float(\"{:.4f}\".format(spearmanr(x,y)[1]))\n",
        "\n",
        "print(\"P values of Spearman Correlation Table:\")\n",
        "data.iloc[:,1:].corr(method=spearmanr_pval)"
      ],
      "execution_count": null,
      "outputs": [
        {
          "output_type": "stream",
          "text": [
            "P values of Spearman Correlation Table:\n"
          ],
          "name": "stdout"
        },
        {
          "output_type": "execute_result",
          "data": {
            "text/html": [
              "<div>\n",
              "<style scoped>\n",
              "    .dataframe tbody tr th:only-of-type {\n",
              "        vertical-align: middle;\n",
              "    }\n",
              "\n",
              "    .dataframe tbody tr th {\n",
              "        vertical-align: top;\n",
              "    }\n",
              "\n",
              "    .dataframe thead th {\n",
              "        text-align: right;\n",
              "    }\n",
              "</style>\n",
              "<table border=\"1\" class=\"dataframe\">\n",
              "  <thead>\n",
              "    <tr style=\"text-align: right;\">\n",
              "      <th></th>\n",
              "      <th>Bugs</th>\n",
              "      <th>Vulnerabilities</th>\n",
              "      <th>Security Hotspots</th>\n",
              "      <th>Code Smells</th>\n",
              "      <th>Code Duplication</th>\n",
              "      <th>Debt</th>\n",
              "      <th>CountClassDerived</th>\n",
              "      <th>CountClassCoupled</th>\n",
              "      <th>CountDeclMethodAll</th>\n",
              "      <th>CountLineCode</th>\n",
              "      <th>CountLineComment</th>\n",
              "      <th>CountInput</th>\n",
              "      <th>CountOutput</th>\n",
              "      <th>PercentLackOfCohesion</th>\n",
              "      <th>SumCyclomatic</th>\n",
              "      <th>MaxInheritanceTree</th>\n",
              "    </tr>\n",
              "  </thead>\n",
              "  <tbody>\n",
              "    <tr>\n",
              "      <th>Bugs</th>\n",
              "      <td>1.0000</td>\n",
              "      <td>0.0000</td>\n",
              "      <td>0.0000</td>\n",
              "      <td>0.0000</td>\n",
              "      <td>0.0001</td>\n",
              "      <td>0.0000</td>\n",
              "      <td>0.0020</td>\n",
              "      <td>0.0001</td>\n",
              "      <td>0.0000</td>\n",
              "      <td>0.0002</td>\n",
              "      <td>0.0001</td>\n",
              "      <td>0.0000</td>\n",
              "      <td>0.0570</td>\n",
              "      <td>0.0242</td>\n",
              "      <td>0.0000</td>\n",
              "      <td>0.0257</td>\n",
              "    </tr>\n",
              "    <tr>\n",
              "      <th>Vulnerabilities</th>\n",
              "      <td>0.0000</td>\n",
              "      <td>1.0000</td>\n",
              "      <td>0.0000</td>\n",
              "      <td>0.0000</td>\n",
              "      <td>0.0002</td>\n",
              "      <td>0.0000</td>\n",
              "      <td>0.0056</td>\n",
              "      <td>0.0001</td>\n",
              "      <td>0.0008</td>\n",
              "      <td>0.0006</td>\n",
              "      <td>0.0053</td>\n",
              "      <td>0.0000</td>\n",
              "      <td>0.0161</td>\n",
              "      <td>0.0273</td>\n",
              "      <td>0.0000</td>\n",
              "      <td>0.0694</td>\n",
              "    </tr>\n",
              "    <tr>\n",
              "      <th>Security Hotspots</th>\n",
              "      <td>0.0000</td>\n",
              "      <td>0.0000</td>\n",
              "      <td>1.0000</td>\n",
              "      <td>0.0000</td>\n",
              "      <td>0.0008</td>\n",
              "      <td>0.0000</td>\n",
              "      <td>0.0000</td>\n",
              "      <td>0.0000</td>\n",
              "      <td>0.0000</td>\n",
              "      <td>0.0216</td>\n",
              "      <td>0.0012</td>\n",
              "      <td>0.0000</td>\n",
              "      <td>0.0666</td>\n",
              "      <td>0.5422</td>\n",
              "      <td>0.0000</td>\n",
              "      <td>0.2218</td>\n",
              "    </tr>\n",
              "    <tr>\n",
              "      <th>Code Smells</th>\n",
              "      <td>0.0000</td>\n",
              "      <td>0.0000</td>\n",
              "      <td>0.0000</td>\n",
              "      <td>1.0000</td>\n",
              "      <td>0.0000</td>\n",
              "      <td>0.0000</td>\n",
              "      <td>0.0050</td>\n",
              "      <td>0.0000</td>\n",
              "      <td>0.0000</td>\n",
              "      <td>0.0000</td>\n",
              "      <td>0.0034</td>\n",
              "      <td>0.0000</td>\n",
              "      <td>0.0026</td>\n",
              "      <td>0.0220</td>\n",
              "      <td>0.0000</td>\n",
              "      <td>0.0533</td>\n",
              "    </tr>\n",
              "    <tr>\n",
              "      <th>Code Duplication</th>\n",
              "      <td>0.0001</td>\n",
              "      <td>0.0002</td>\n",
              "      <td>0.0008</td>\n",
              "      <td>0.0000</td>\n",
              "      <td>1.0000</td>\n",
              "      <td>0.0000</td>\n",
              "      <td>0.5553</td>\n",
              "      <td>0.0751</td>\n",
              "      <td>0.1849</td>\n",
              "      <td>0.0346</td>\n",
              "      <td>0.3011</td>\n",
              "      <td>0.0937</td>\n",
              "      <td>0.2920</td>\n",
              "      <td>0.6345</td>\n",
              "      <td>0.0227</td>\n",
              "      <td>0.0625</td>\n",
              "    </tr>\n",
              "    <tr>\n",
              "      <th>Debt</th>\n",
              "      <td>0.0000</td>\n",
              "      <td>0.0000</td>\n",
              "      <td>0.0000</td>\n",
              "      <td>0.0000</td>\n",
              "      <td>0.0000</td>\n",
              "      <td>1.0000</td>\n",
              "      <td>0.0141</td>\n",
              "      <td>0.0000</td>\n",
              "      <td>0.0019</td>\n",
              "      <td>0.0006</td>\n",
              "      <td>0.0167</td>\n",
              "      <td>0.0000</td>\n",
              "      <td>0.0125</td>\n",
              "      <td>0.0803</td>\n",
              "      <td>0.0000</td>\n",
              "      <td>0.0033</td>\n",
              "    </tr>\n",
              "    <tr>\n",
              "      <th>CountClassDerived</th>\n",
              "      <td>0.0020</td>\n",
              "      <td>0.0056</td>\n",
              "      <td>0.0000</td>\n",
              "      <td>0.0050</td>\n",
              "      <td>0.5553</td>\n",
              "      <td>0.0141</td>\n",
              "      <td>1.0000</td>\n",
              "      <td>0.0000</td>\n",
              "      <td>0.0000</td>\n",
              "      <td>0.0151</td>\n",
              "      <td>0.0240</td>\n",
              "      <td>0.2585</td>\n",
              "      <td>0.0101</td>\n",
              "      <td>0.7135</td>\n",
              "      <td>0.2927</td>\n",
              "      <td>0.2587</td>\n",
              "    </tr>\n",
              "    <tr>\n",
              "      <th>CountClassCoupled</th>\n",
              "      <td>0.0001</td>\n",
              "      <td>0.0001</td>\n",
              "      <td>0.0000</td>\n",
              "      <td>0.0000</td>\n",
              "      <td>0.0751</td>\n",
              "      <td>0.0000</td>\n",
              "      <td>0.0000</td>\n",
              "      <td>1.0000</td>\n",
              "      <td>0.0000</td>\n",
              "      <td>0.1966</td>\n",
              "      <td>0.0325</td>\n",
              "      <td>0.0000</td>\n",
              "      <td>0.0549</td>\n",
              "      <td>0.0766</td>\n",
              "      <td>0.0000</td>\n",
              "      <td>0.8493</td>\n",
              "    </tr>\n",
              "    <tr>\n",
              "      <th>CountDeclMethodAll</th>\n",
              "      <td>0.0000</td>\n",
              "      <td>0.0008</td>\n",
              "      <td>0.0000</td>\n",
              "      <td>0.0000</td>\n",
              "      <td>0.1849</td>\n",
              "      <td>0.0019</td>\n",
              "      <td>0.0000</td>\n",
              "      <td>0.0000</td>\n",
              "      <td>1.0000</td>\n",
              "      <td>0.6846</td>\n",
              "      <td>0.0000</td>\n",
              "      <td>0.0026</td>\n",
              "      <td>0.3768</td>\n",
              "      <td>0.0000</td>\n",
              "      <td>0.0000</td>\n",
              "      <td>0.3936</td>\n",
              "    </tr>\n",
              "    <tr>\n",
              "      <th>CountLineCode</th>\n",
              "      <td>0.0002</td>\n",
              "      <td>0.0006</td>\n",
              "      <td>0.0216</td>\n",
              "      <td>0.0000</td>\n",
              "      <td>0.0346</td>\n",
              "      <td>0.0006</td>\n",
              "      <td>0.0151</td>\n",
              "      <td>0.1966</td>\n",
              "      <td>0.6846</td>\n",
              "      <td>1.0000</td>\n",
              "      <td>0.0108</td>\n",
              "      <td>0.0000</td>\n",
              "      <td>0.0000</td>\n",
              "      <td>0.5369</td>\n",
              "      <td>0.0000</td>\n",
              "      <td>0.0173</td>\n",
              "    </tr>\n",
              "    <tr>\n",
              "      <th>CountLineComment</th>\n",
              "      <td>0.0001</td>\n",
              "      <td>0.0053</td>\n",
              "      <td>0.0012</td>\n",
              "      <td>0.0034</td>\n",
              "      <td>0.3011</td>\n",
              "      <td>0.0167</td>\n",
              "      <td>0.0240</td>\n",
              "      <td>0.0325</td>\n",
              "      <td>0.0000</td>\n",
              "      <td>0.0108</td>\n",
              "      <td>1.0000</td>\n",
              "      <td>0.0000</td>\n",
              "      <td>0.3137</td>\n",
              "      <td>0.2412</td>\n",
              "      <td>0.0000</td>\n",
              "      <td>0.8863</td>\n",
              "    </tr>\n",
              "    <tr>\n",
              "      <th>CountInput</th>\n",
              "      <td>0.0000</td>\n",
              "      <td>0.0000</td>\n",
              "      <td>0.0000</td>\n",
              "      <td>0.0000</td>\n",
              "      <td>0.0937</td>\n",
              "      <td>0.0000</td>\n",
              "      <td>0.2585</td>\n",
              "      <td>0.0000</td>\n",
              "      <td>0.0026</td>\n",
              "      <td>0.0000</td>\n",
              "      <td>0.0000</td>\n",
              "      <td>1.0000</td>\n",
              "      <td>0.0000</td>\n",
              "      <td>0.0823</td>\n",
              "      <td>0.0000</td>\n",
              "      <td>0.0549</td>\n",
              "    </tr>\n",
              "    <tr>\n",
              "      <th>CountOutput</th>\n",
              "      <td>0.0570</td>\n",
              "      <td>0.0161</td>\n",
              "      <td>0.0666</td>\n",
              "      <td>0.0026</td>\n",
              "      <td>0.2920</td>\n",
              "      <td>0.0125</td>\n",
              "      <td>0.0101</td>\n",
              "      <td>0.0549</td>\n",
              "      <td>0.3768</td>\n",
              "      <td>0.0000</td>\n",
              "      <td>0.3137</td>\n",
              "      <td>0.0000</td>\n",
              "      <td>1.0000</td>\n",
              "      <td>0.9191</td>\n",
              "      <td>0.0000</td>\n",
              "      <td>0.0066</td>\n",
              "    </tr>\n",
              "    <tr>\n",
              "      <th>PercentLackOfCohesion</th>\n",
              "      <td>0.0242</td>\n",
              "      <td>0.0273</td>\n",
              "      <td>0.5422</td>\n",
              "      <td>0.0220</td>\n",
              "      <td>0.6345</td>\n",
              "      <td>0.0803</td>\n",
              "      <td>0.7135</td>\n",
              "      <td>0.0766</td>\n",
              "      <td>0.0000</td>\n",
              "      <td>0.5369</td>\n",
              "      <td>0.2412</td>\n",
              "      <td>0.0823</td>\n",
              "      <td>0.9191</td>\n",
              "      <td>1.0000</td>\n",
              "      <td>0.0172</td>\n",
              "      <td>0.9465</td>\n",
              "    </tr>\n",
              "    <tr>\n",
              "      <th>SumCyclomatic</th>\n",
              "      <td>0.0000</td>\n",
              "      <td>0.0000</td>\n",
              "      <td>0.0000</td>\n",
              "      <td>0.0000</td>\n",
              "      <td>0.0227</td>\n",
              "      <td>0.0000</td>\n",
              "      <td>0.2927</td>\n",
              "      <td>0.0000</td>\n",
              "      <td>0.0000</td>\n",
              "      <td>0.0000</td>\n",
              "      <td>0.0000</td>\n",
              "      <td>0.0000</td>\n",
              "      <td>0.0000</td>\n",
              "      <td>0.0172</td>\n",
              "      <td>1.0000</td>\n",
              "      <td>0.0019</td>\n",
              "    </tr>\n",
              "    <tr>\n",
              "      <th>MaxInheritanceTree</th>\n",
              "      <td>0.0257</td>\n",
              "      <td>0.0694</td>\n",
              "      <td>0.2218</td>\n",
              "      <td>0.0533</td>\n",
              "      <td>0.0625</td>\n",
              "      <td>0.0033</td>\n",
              "      <td>0.2587</td>\n",
              "      <td>0.8493</td>\n",
              "      <td>0.3936</td>\n",
              "      <td>0.0173</td>\n",
              "      <td>0.8863</td>\n",
              "      <td>0.0549</td>\n",
              "      <td>0.0066</td>\n",
              "      <td>0.9465</td>\n",
              "      <td>0.0019</td>\n",
              "      <td>1.0000</td>\n",
              "    </tr>\n",
              "  </tbody>\n",
              "</table>\n",
              "</div>"
            ],
            "text/plain": [
              "                         Bugs  ...  MaxInheritanceTree\n",
              "Bugs                   1.0000  ...              0.0257\n",
              "Vulnerabilities        0.0000  ...              0.0694\n",
              "Security Hotspots      0.0000  ...              0.2218\n",
              "Code Smells            0.0000  ...              0.0533\n",
              "Code Duplication       0.0001  ...              0.0625\n",
              "Debt                   0.0000  ...              0.0033\n",
              "CountClassDerived      0.0020  ...              0.2587\n",
              "CountClassCoupled      0.0001  ...              0.8493\n",
              "CountDeclMethodAll     0.0000  ...              0.3936\n",
              "CountLineCode          0.0002  ...              0.0173\n",
              "CountLineComment       0.0001  ...              0.8863\n",
              "CountInput             0.0000  ...              0.0549\n",
              "CountOutput            0.0570  ...              0.0066\n",
              "PercentLackOfCohesion  0.0242  ...              0.9465\n",
              "SumCyclomatic          0.0000  ...              0.0019\n",
              "MaxInheritanceTree     0.0257  ...              1.0000\n",
              "\n",
              "[16 rows x 16 columns]"
            ]
          },
          "metadata": {
            "tags": []
          },
          "execution_count": 10
        }
      ]
    },
    {
      "cell_type": "markdown",
      "metadata": {
        "id": "1ahjTqGoioSh"
      },
      "source": [
        "\n",
        "\n",
        "> Conversely, a P-value of >.05 only indicates that the evidence is inadequate to reject the null hypothesis, and the alternative hypothesis (the opposite of the null hypothesis) that the observed differences between the groups is real or not due to chance is not accepted. As a consequence, the study results are unlikely to have occurred by chance.\n",
        "\n",
        "> However, it does not imply that the null hypothesis is true, and that the test treatment and control (e.g. standard treatment, placebo, or baseline) in the study are equivalent. The study itself may have the weakness such as a small sample size to detect a clinically important difference as statistically significant.\n",
        "\n",
        "> For example, a P-value of 0.08, albeit not significant, does not mean ‘nil’. There is still an 8% chance that the null hypothesis is true. A P-value alone cannot be used to accept or reject the null hypothesis. The cut-off level of 0.05 is purely arbitrary and gives no indication as to the clinical significance of any observed differences.\n",
        " \n",
        "**Source**: https://www.ncbi.nlm.nih.gov/pmc/articles/PMC2897873/"
      ]
    },
    {
      "cell_type": "code",
      "metadata": {
        "id": "LnY9-Yk9jr7a",
        "colab": {
          "base_uri": "https://localhost:8080/",
          "height": 703
        },
        "outputId": "cd7b73e6-9dab-4306-f49d-ebe10c27b798"
      },
      "source": [
        "#If you want to see heatmap of the correlation matrix, you can launch code below:\n",
        "fig, ax = plt.subplots(figsize=(15,10))   \n",
        "sns.heatmap(corrMatrix, annot=True,ax=ax)\n",
        "plt.show()"
      ],
      "execution_count": null,
      "outputs": [
        {
          "output_type": "display_data",
          "data": {
            "image/png": "[encoded data removed]",
            "text/plain": [
              "<Figure size 1080x720 with 2 Axes>"
            ]
          },
          "metadata": {
            "tags": [],
            "needs_background": "light"
          }
        }
      ]
    },
    {
      "cell_type": "markdown",
      "metadata": {
        "id": "Y_5SGYm4L4RV"
      },
      "source": [
        "\n",
        "> 0 < rs <= 0.25 : weak relationship\n",
        "\n",
        "> 0.25 < rs <= 0.75 : intermediate relationship\n",
        "\n",
        "> rs > 0.75 : strong relationship\n",
        "\n",
        "\n",
        "\n",
        "---\n",
        "\n",
        "\n",
        "\n",
        "---\n",
        "\n",
        "\n",
        "\n",
        "**Number Of Bugs:**\n",
        "\n",
        "* There is a positive intermediate relationship between \"Number of Bugs\" and CountClassDerived,CountClassCoupled,CountDeclMethodAll,CountLineCode, CountLineComment,CountInput and SumCyclomatic internal metrics.\n",
        "\n",
        "* There is also a weak relation with CountOutput,MaxInheritanceTree and PercentLackOfCohesion.\n",
        "\n",
        "\n",
        "---\n",
        "\n",
        "\n",
        "\n",
        "---\n",
        "\n",
        "\n",
        "**Vulnerabilities:**\n",
        "\n",
        "* There is a positive intermediate relationship between \"Vulnerabilities\" and CountClassDerived,CountClassCoupled,CountDeclMethodAll,CountLineCode, CountLineComment,CountInput and SumCyclomatic internal metrics. \n",
        "\n",
        "* Weak relation with CountOutput,MaxInheritanceTree and PercentLackOfCohesion \n",
        "\n",
        "\n",
        "---\n",
        "---\n",
        "\n",
        "**Security Hotpots:**\n",
        "\n",
        "* There are positive intermediate relationships between \"Security Hotpots\" and CountClassDerived,CountClassCoupled,CountDeclMethodAll, CountLineComment,CountInput and SumCyclomatic\n",
        "\n",
        "* There are positive but weak relationships with CountLineCode,CountOutput\n",
        "\n",
        "* There is a weak positive relation with PercentLackOfCohesion(LCOM) but P-value is too large for this correlation.So it is not included\n",
        "* There is also one more weak positive relation with MaxInheritanceTree(DIT) but P-value is too large to analyze (so this one also is not included)\n",
        "---\n",
        "---\n",
        "\n",
        "**Code Smells:**\n",
        "\n",
        "* There are positive intermediate relationships between \"Code Smells\" and CountClassDerived,CountClassCoupled,CountDeclMethodAll CountLineComment, CountLineCode, CountInput, CountOutput, and SumCyclomatic\n",
        "\n",
        "* There are positive but weak relations with PercentLackOfCohesion and MaxInheritanceTree"
      ]
    },
    {
      "cell_type": "markdown",
      "metadata": {
        "id": "G1SzqNWRKUhr"
      },
      "source": [
        "# RQ1. Results for relation between Internal and External Trustworthiness Metrics\n"
      ]
    },
    {
      "cell_type": "markdown",
      "metadata": {
        "id": "0U-8u3clIrmA"
      },
      "source": [
        "If we summarize the analysis we performed above, we can create a table like the one below.\n",
        "We will try to verify the 12 hypotheses we have stated in the hypotheses section based on the results below:\n",
        "\n",
        "---\n",
        "\n",
        "\n",
        "\n",
        "---\n",
        "\n",
        "\n",
        "\n",
        "**Number Of Bugs:**\n",
        "\n",
        "> **Positive intermediate relationship:** NOC,CBO,RFC,LOC,CLOC,FanIn,WMC\n",
        "\n",
        "> **Positive weak relationship:** FanOut, DIT,LCOM\n",
        "\n",
        "---\n",
        "---\n",
        "\n",
        "\n",
        "**Vulnerabilities:**\n",
        "> **Positive intermediate relationship:** NOC,CBO,RFC,LOC,CLOC,FanIn,WMC\n",
        "\n",
        "> **Positive weak relationship:** FanOut, DIT,LCOM\n",
        "\n",
        "---\n",
        "---\n",
        "\n",
        "**Security Hotpots:**\n",
        "\n",
        "> **Positive intermediate relationship:** NOC,CBO,RFC,CLOC,FanIn,WMC\n",
        "\n",
        "> **Positive weak relationship:** LOC,FanOut,\n",
        "\n",
        "* There is a weak positive relation with PercentLackOfCohesion(LCOM) but P-value is too large for this correlation.So it is not included\n",
        "\n",
        "* There is also one more weak positive relation with MaxInheritanceTree(DIT) but P-value is too large to analyze (so this one is not included)\n",
        "---\n",
        "---\n",
        "\n",
        "**Code Smells:**\n",
        "\n",
        "> **Positive intermediate relationship:** NOC,CBO,RFC,CLOC,LOC,FanOut,FanIn,WMC\n",
        "\n",
        "> **Positive weak relationship:** DIT,LCOM\n",
        "\n"
      ]
    },
    {
      "cell_type": "markdown",
      "metadata": {
        "id": "NeejsSAMsM6L"
      },
      "source": [
        "# Evaluation of Phase - 1\n",
        "**Validation of Hypotheses**\n"
      ]
    },
    {
      "cell_type": "markdown",
      "metadata": {
        "id": "t5AdiYPLJj1T"
      },
      "source": [
        "** H1, H2, H3 and H4 ** hypotheses are established for the relationships between complexity metrics and External metrics.\n",
        "\n",
        "**External metrics:** Number Of Bugs,Vulnerabilities,Security Hotpots and Code Smells\n",
        "\n",
        "**Internal Complexity Metrics:** DIT, RFC, WMC and LOC\n",
        "\n",
        "\n",
        "All complexity metrics other than DIT have positive significant correlations with external metrics (See above).\n",
        "\n",
        "DIT is also positively correlated with three of these external metrics, but since the P value between Security Hotpots is greater than 0.1, no firm judgment can be made between these two metrics.\n",
        "\n",
        "Therefore,\n",
        "**H1,H2 and H4 validated. H3 is partially validated.**\n",
        "\n",
        "\n",
        "\n",
        "---\n",
        "\n",
        "\n",
        "\n",
        "---\n",
        "\n",
        "\n",
        "\n",
        "---\n",
        "\n",
        "\n"
      ]
    },
    {
      "cell_type": "markdown",
      "metadata": {
        "id": "TsezG-FF0T10"
      },
      "source": [
        "H5,H6,H7 and H7 are about relations between Internal Coupling metrics(CBO,FanOut,FanIn) and External Quality metrics(Number Of Bugs,Vulnerabilities,Security Hotspots and Code Smells).\n",
        "\n",
        "\n",
        "All Internal Coupling metrics are positively and significantly correlated with all external quality metrics that shown above. \n",
        "\n",
        "**Therefore, H5,H6,H7 and H7 are validated**\n",
        "\n",
        "\n",
        "\n",
        "---\n",
        "\n",
        "\n",
        "\n",
        "---\n",
        "\n",
        "\n",
        "\n",
        "---\n",
        "\n",
        "\n",
        "\n"
      ]
    },
    {
      "cell_type": "markdown",
      "metadata": {
        "id": "-4RGQqFkJjx_"
      },
      "source": [
        "**H9, H10, H11 and H12** are related with correlation of cohesion metrics and external quality metrics.\n",
        "\n",
        "**H9, H10, and H12 validated** , since a positive relationship is observed between LCOM and \"vulnerability\", \"number of bugs\" and \"code smells\" external\n",
        "metrics. It means that there is a negative correlation between cohesion and external metrics.\n",
        "\n",
        "\n",
        "However, there is a problem with the H11 hypothesis. There is a positive correlation between LCOM (PercentLackOfCohesion) and \"Security Hotpots\" but this correlation is not significant enough.\n",
        "The P value between these two metrics is 0.5422. For this reason, the significance level condition cannot be met.\n",
        "\n",
        "**This is why we cannot make an exact validation of the H11**\n",
        "\n"
      ]
    },
    {
      "cell_type": "code",
      "metadata": {
        "id": "QkBFFO5tg9cj"
      },
      "source": [
        ""
      ],
      "execution_count": null,
      "outputs": []
    },
    {
      "cell_type": "code",
      "metadata": {
        "id": "pYjWt_c3g96A"
      },
      "source": [
        ""
      ],
      "execution_count": null,
      "outputs": []
    },
    {
      "cell_type": "code",
      "metadata": {
        "id": "4BKBF1tyg9ZR"
      },
      "source": [
        ""
      ],
      "execution_count": null,
      "outputs": []
    },
    {
      "cell_type": "markdown",
      "metadata": {
        "id": "v7RjCgDC-LkB"
      },
      "source": [
        "# Phase 2:\n",
        "Investigating the relationships between TD and trustworthiness metrics. The\n",
        "research question 2 (RQ2) that serves the phase 2 objective has been formulated as follows:\n",
        "\n",
        "\n",
        "#RQ2:\n",
        "**Do software components with technical debt appear as less trustworthy? In order to answer this question, we divided it into 2 sub-questions:**\n",
        "\n",
        "> RQ2.1. Does trustworthiness with respect to internal quality metrics have a relation with TD?\n",
        "\n",
        "> RQ2.2. Does TD have a relation with trustworthiness with respect to external quality metrics?\n",
        "\n"
      ]
    },
    {
      "cell_type": "markdown",
      "metadata": {
        "id": "H0LZliZOI9Hm"
      },
      "source": [
        "After findings from H1 to H12, we investigate for whether trustworthiness metrics and TD is closely related with each other in case of H13 and H14:\n",
        "\n",
        "> **H13-** Software components with technical debt less likely indicate a trustworthy\n",
        "software with respect to internal trustworthiness.\n",
        "\n",
        "> **H14-** Software components with technical debt less likely indicate a trustworthy\n",
        "software with respect to external trustworthiness\n"
      ]
    },
    {
      "cell_type": "markdown",
      "metadata": {
        "id": "A_XzYEY6I9E5"
      },
      "source": [
        "In order to evaluate RQ2.1, results for H13 that is defined as \"Software components with technical debt are less likely indicate a trustworthy software with respect to internal trustworthiness\" are discussed in this part.. By constructing this hypothesis, it is aimed to see if TD can be used as an indicator of lacking software internal trustworthiness. To observe and find this relationship, we firstly analyzed the relationship between internal trustworthiness and TD. Then, for the answering RQ2.2, we analyzed the relationship between TD and external trustworthiness in light of H14 that is defined as \"Software components with technical debt are less likely indicate a trustworthy software with respect to external trustworthiness\"."
      ]
    },
    {
      "cell_type": "markdown",
      "metadata": {
        "id": "qnYffTXqI_Ph"
      },
      "source": [
        "To measure the technical debt, we used two metrics- Technical Debt(TD) and Code Duplication Ratio(CDR) metrics; and to measure the trustworthiness, we used\n",
        "14 different internal and external metrics- **number of bugs, vulnerability, security hotspots, code smells, NOC,CBO,DIT, RFC, WMC, LCOM, CLOC, LOC,FanIn, FanOut metrics.** \n",
        "\n"
      ]
    },
    {
      "cell_type": "code",
      "metadata": {
        "id": "BasbYRGXj0fO",
        "colab": {
          "base_uri": "https://localhost:8080/",
          "height": 227
        },
        "outputId": "6e34e109-bad3-4f14-bce7-62c99ea39c2d"
      },
      "source": [
        "fig1, ax1 = plt.subplots(figsize=(5,3))\n",
        "sns.heatmap(corrMatrix.iloc[:4,4:6], annot=True,ax=ax1)\n",
        "plt.title(\"Correlation between External Metrics & TD\")\n",
        "plt.show()"
      ],
      "execution_count": null,
      "outputs": [
        {
          "output_type": "display_data",
          "data": {
            "image/png": "[encoded data removed]",
            "text/plain": [
              "<Figure size 360x216 with 2 Axes>"
            ]
          },
          "metadata": {
            "tags": [],
            "needs_background": "light"
          }
        }
      ]
    },
    {
      "cell_type": "markdown",
      "metadata": {
        "id": "WP8ZppvBjFPv"
      },
      "source": [
        "\n",
        "**External trustworthiness metrics have a significant and moderate positive relationship with Technical Debt and Code Duplication Rate**.There is also a strong positive relationship between Code Smells and Technical Debt.\n",
        "\n",
        "All P values are less than 0.1.Therefore, we can say that all external metrics have a positive and significant relationship with Technical Debt and Code Duplication Rate."
      ]
    },
    {
      "cell_type": "markdown",
      "metadata": {
        "id": "VOs3fHldjFIq"
      },
      "source": [
        ""
      ]
    },
    {
      "cell_type": "code",
      "metadata": {
        "id": "e2QuIBs8o1x8",
        "colab": {
          "base_uri": "https://localhost:8080/",
          "height": 713
        },
        "outputId": "cbfaafc6-4a11-44f3-b8a5-790790e7ad5a"
      },
      "source": [
        "fig2, ax2 = plt.subplots(figsize=(5,5))\n",
        "sns.heatmap(corrMatrix.iloc[6:,4:6], annot=True,ax=ax2)\n",
        "plt.title(\"Correlation between Internal Metrics & TD\")\n",
        "plt.show()\n",
        "\n",
        "print(\"\\n\\nP values:\")\n",
        "p_values = data.iloc[:,1:].corr(method=spearmanr_pval)\n",
        "p_values.iloc[6:,4:6]"
      ],
      "execution_count": null,
      "outputs": [
        {
          "output_type": "display_data",
          "data": {
            "image/png": "[encoded data removed]",
            "text/plain": [
              "<Figure size 360x360 with 2 Axes>"
            ]
          },
          "metadata": {
            "tags": [],
            "needs_background": "light"
          }
        },
        {
          "output_type": "stream",
          "text": [
            "\n",
            "\n",
            "P values:\n"
          ],
          "name": "stdout"
        },
        {
          "output_type": "execute_result",
          "data": {
            "text/html": [
              "<div>\n",
              "<style scoped>\n",
              "    .dataframe tbody tr th:only-of-type {\n",
              "        vertical-align: middle;\n",
              "    }\n",
              "\n",
              "    .dataframe tbody tr th {\n",
              "        vertical-align: top;\n",
              "    }\n",
              "\n",
              "    .dataframe thead th {\n",
              "        text-align: right;\n",
              "    }\n",
              "</style>\n",
              "<table border=\"1\" class=\"dataframe\">\n",
              "  <thead>\n",
              "    <tr style=\"text-align: right;\">\n",
              "      <th></th>\n",
              "      <th>Code Duplication</th>\n",
              "      <th>Debt</th>\n",
              "    </tr>\n",
              "  </thead>\n",
              "  <tbody>\n",
              "    <tr>\n",
              "      <th>CountClassDerived</th>\n",
              "      <td>0.5553</td>\n",
              "      <td>0.0141</td>\n",
              "    </tr>\n",
              "    <tr>\n",
              "      <th>CountClassCoupled</th>\n",
              "      <td>0.0751</td>\n",
              "      <td>0.0000</td>\n",
              "    </tr>\n",
              "    <tr>\n",
              "      <th>CountDeclMethodAll</th>\n",
              "      <td>0.1849</td>\n",
              "      <td>0.0019</td>\n",
              "    </tr>\n",
              "    <tr>\n",
              "      <th>CountLineCode</th>\n",
              "      <td>0.0346</td>\n",
              "      <td>0.0006</td>\n",
              "    </tr>\n",
              "    <tr>\n",
              "      <th>CountLineComment</th>\n",
              "      <td>0.3011</td>\n",
              "      <td>0.0167</td>\n",
              "    </tr>\n",
              "    <tr>\n",
              "      <th>CountInput</th>\n",
              "      <td>0.0937</td>\n",
              "      <td>0.0000</td>\n",
              "    </tr>\n",
              "    <tr>\n",
              "      <th>CountOutput</th>\n",
              "      <td>0.2920</td>\n",
              "      <td>0.0125</td>\n",
              "    </tr>\n",
              "    <tr>\n",
              "      <th>PercentLackOfCohesion</th>\n",
              "      <td>0.6345</td>\n",
              "      <td>0.0803</td>\n",
              "    </tr>\n",
              "    <tr>\n",
              "      <th>SumCyclomatic</th>\n",
              "      <td>0.0227</td>\n",
              "      <td>0.0000</td>\n",
              "    </tr>\n",
              "    <tr>\n",
              "      <th>MaxInheritanceTree</th>\n",
              "      <td>0.0625</td>\n",
              "      <td>0.0033</td>\n",
              "    </tr>\n",
              "  </tbody>\n",
              "</table>\n",
              "</div>"
            ],
            "text/plain": [
              "                       Code Duplication    Debt\n",
              "CountClassDerived                0.5553  0.0141\n",
              "CountClassCoupled                0.0751  0.0000\n",
              "CountDeclMethodAll               0.1849  0.0019\n",
              "CountLineCode                    0.0346  0.0006\n",
              "CountLineComment                 0.3011  0.0167\n",
              "CountInput                       0.0937  0.0000\n",
              "CountOutput                      0.2920  0.0125\n",
              "PercentLackOfCohesion            0.6345  0.0803\n",
              "SumCyclomatic                    0.0227  0.0000\n",
              "MaxInheritanceTree               0.0625  0.0033"
            ]
          },
          "metadata": {
            "tags": []
          },
          "execution_count": 13
        }
      ]
    },
    {
      "cell_type": "markdown",
      "metadata": {
        "id": "1LXCUPQxjFEQ"
      },
      "source": [
        "**Internal metrics have a significant and moderate positive relationship with Technical Debt**\n",
        "\n",
        "**CountClassCoupled(CBO), CountLineCode(LOC),CountInput(FanIn),PercentLackOfCohesion(LCOM),SumCyclomatic(WMC) and MaxInheritanceTree(DIT) have weak positive relations with Code Duplication(CDR)**\n",
        "\n",
        "However, since P value of the other internal metrics are more than 0.1(see above), we can't prove their correlation with CDR metric."
      ]
    },
    {
      "cell_type": "markdown",
      "metadata": {
        "id": "Lb82rxWSspk2"
      },
      "source": [
        "#Evaluation of Phase-2:\n",
        "\n",
        "**It can be said that there is a significant connection between external quality metrics and Technical Debt. So, TD can be taken into account as a good indicator of external quality.**\n",
        "\n",
        "**There seems to be a correlation between most of the Internal metrics and the Technical Debt, although not as strong as above. (Not as strong as External metrics-TD)**\n",
        "\n",
        "> According to these results, we can assume that external and internal quality could be considered as an indicator of TD.\n",
        "\n",
        "\n",
        "---\n",
        "\n",
        "\n",
        "**However, before the final judgment, we will try to expand the work for these two hypotheses and come to a conclusion with machine learning methods.**\n",
        "\n",
        "In the next part, we will first train our machine learning models with Internal metrics and try to calculate Technical Debt. We will measure the success of the model according to the results from here.\n",
        "\n",
        "Then, we will send External Quality metrics to our machine learning models as a training set and measure the success rate.\n",
        "\n",
        "Finally, we will send all internal and external metrics to our ML models as a training set and look at the overall results.\n",
        "\n",
        "\n",
        "\n"
      ]
    },
    {
      "cell_type": "code",
      "metadata": {
        "id": "An_Kj8LKpXnV"
      },
      "source": [
        ""
      ],
      "execution_count": null,
      "outputs": []
    },
    {
      "cell_type": "code",
      "metadata": {
        "id": "DlLuxvdvpXlN"
      },
      "source": [
        ""
      ],
      "execution_count": null,
      "outputs": []
    },
    {
      "cell_type": "code",
      "metadata": {
        "id": "7UOsK5CXpXhx"
      },
      "source": [
        ""
      ],
      "execution_count": null,
      "outputs": []
    },
    {
      "cell_type": "markdown",
      "metadata": {
        "id": "1eDgeyyDspha"
      },
      "source": [
        "# Technical Debt Estimation By Using ML Regression Models\n",
        "\n",
        "Since Technical Debt is a numerical data, we will use ML Regression models during the study.\n",
        "\n",
        "70% of our data will be separated into training sets and 30% as test sets. 70% of our data will be randomly selected for training the model. During this selection, the variable random_state will have a fixed value so that all models get the same data. In this way, we will be able to evaluate the success rate of the models objectively.\n",
        "\n",
        "R-Square and Mean Square Error methods will be used to calculate the success rate of the models.\n",
        "\n",
        "Most regression models are sensitive to outlier values. Therefore, the data should be normalized before training. Since we normalized the data in the first part of this project, we will not apply normalization again."
      ]
    },
    {
      "cell_type": "markdown",
      "metadata": {
        "id": "CTKM7k5dyw5k"
      },
      "source": [
        "#Establishing Machine Learning Regression Models:\n",
        "\n",
        "We are going to use 5 different ML Regression Models to predict Technical Debt values:\n",
        "\n",
        ">Linear Regression\n",
        "\n",
        ">Support Vector Regression\n",
        "\n",
        ">Decision Tree Regression\n",
        "\n",
        ">Random Forest Tree Regression\n",
        "\n",
        ">Multi-layer Perceptron"
      ]
    },
    {
      "cell_type": "code",
      "metadata": {
        "id": "Fsc013bjERRa"
      },
      "source": [
        "from sklearn.linear_model import LinearRegression\n",
        "from sklearn.metrics import mean_squared_error, mean_absolute_error\n",
        "from sklearn.svm import SVR\n",
        "from sklearn.tree import DecisionTreeRegressor\n",
        "from sklearn.ensemble import RandomForestRegressor\n",
        "from sklearn.neural_network import MLPRegressor\n",
        "\n",
        "random_state_fixed=53\n",
        "\n",
        "#This function plots graphs to improve visual confirmation\n",
        "def plotGraph(y_test,y_pred,regressorName):\n",
        "  #Plot the Scatter Graph to see results better\n",
        "  plt.scatter(y_test,y_pred,s=50,color='b',label='Predicted Values')\n",
        "  plt.scatter(y_test,y_test,s=50,color='r',label='Original Values')\n",
        "  plt.legend(loc=\"upper left\")\n",
        "  plt.title(\"Regressor Accuracy of \"+ regressorName)\n",
        "  plt.show()\n",
        "\n",
        "\n",
        "#Linear Regressor is one of the best choice for the data that is correlated linearly:\n",
        "def linearRegression(X_train,y_train,X_test,y_test):\n",
        "  # Create the regressor: reg_all\n",
        "  reg_all = LinearRegression()\n",
        "  reg_all.fit(X_train, y_train)\n",
        "  y_pred = reg_all.predict(X_test)\n",
        "  # Compute and print R^2 and RMSE\n",
        "  print(\"Linear Regression R^2:\",r2_score(y_test, y_pred))\n",
        "  rmse = np.sqrt(mean_squared_error(y_test, y_pred))\n",
        "  print(\"Linear Regression- Root Mean Squared Error: {}\".format(rmse))\n",
        "  plotGraph(y_test,y_pred,\"Linear Regressor\")\n",
        "\n",
        "\n",
        "#SVR is also one of the most common regressor that used for regression predictions\n",
        "#Since we have different kernels for Svr Regression model, we will try two of them to get best result:\n",
        "def svrRegression(X_train,y_train,X_test,y_test):\n",
        "  for kernelType in [\"linear\", \"rbf\",]:\n",
        "    svRegressor = SVR(kernel = kernelType)\n",
        "    svRegressor.fit(X_train, y_train)\n",
        "    y_pred = svRegressor.predict(X_test)\n",
        "    print(kernelType , \" kernel - R-squared:\", r2_score(y_test, svRegressor.predict(X_test)))\n",
        "\n",
        "\n",
        "\n",
        "def decisionTreeRegression(X_train,y_train,X_test,y_test):\n",
        "  dtr= DecisionTreeRegressor(random_state=random_state_fixed,splitter=\"best\")\n",
        "  dtr.fit(X_train,y_train)\n",
        "  y_pred = dtr.predict(X_test)\n",
        "  print(\"Decision Tree Regression R^2:\",r2_score(y_test, y_pred))\n",
        "  rmse = np.sqrt(mean_squared_error(y_test, y_pred))\n",
        "  print(\"Decision Tree Regression- Root Mean Squared Error: {}\".format(rmse))\n",
        "  plotGraph(y_test,y_pred,\"Decision Tree Regressor\")\n",
        "\n",
        "\n",
        "\n",
        "def randomDecTreeRegression(X_train,y_train,X_test,y_test):\n",
        "  model = RandomForestRegressor(n_estimators=100, random_state=random_state_fixed) # n_estimator is the number of trees in the forest.\n",
        "  model.fit(X_train,y_train)\n",
        "  y_pred=model.predict(X_test)\n",
        "  print(\"Random Decision Tree Regression R^2:\",r2_score(y_test, y_pred))\n",
        "  rmse = np.sqrt(mean_squared_error(y_test, y_pred))\n",
        "  print(\"Random Decision Tree Regression- Root Mean Squared Error: {}\".format(rmse))\n",
        "  plotGraph(y_test,y_pred,\"Random Decision Tree Regressor\")\n",
        "\n",
        "\n",
        "\n",
        "#Multi-layer Perceptron regressor: 'This model optimizes the squared-loss using LBFGS or stochastic gradient descent.'\n",
        "def mlpRegressor(X_train,y_train,X_test,y_test):\n",
        "  regr = MLPRegressor(random_state=random_state_fixed).fit(X_train, y_train)\n",
        "  y_pred = regr.predict(X_test)\n",
        "  print(\"Multi-layer Perceptron Regressor Regression R^2:\",r2_score(y_test, y_pred))\n",
        "  rmse = np.sqrt(mean_squared_error(y_test, y_pred))\n",
        "  print(\"Random Decision Tree Regression- Root Mean Squared Error: {}\".format(rmse))\n",
        "  plotGraph(y_test,y_pred,\" Multi-layer Perceptron Regressor\")\n",
        "\n"
      ],
      "execution_count": null,
      "outputs": []
    },
    {
      "cell_type": "markdown",
      "metadata": {
        "id": "zciGqAPP4IL-"
      },
      "source": [
        "#Splitting Data Into Train and Test Sets\n",
        "\n",
        "Önce internal icin x_internal, externallar için ise x_external olusturalım.\n",
        "x ise debt ve CDR dışında bütün değerlere sahip olsun. Y ise zaten sadece debt için"
      ]
    },
    {
      "cell_type": "code",
      "metadata": {
        "id": "cvMHaAL_7SP1"
      },
      "source": [
        "#Internal metrics\n",
        "x_internal = data.iloc[:,7:].values\n",
        "\n",
        "#External Metrics\n",
        "x_external = data.iloc[:,1:5].values\n",
        "\n",
        "#Internal + External Metrics\n",
        "x_all = data.copy()\n",
        "x_all.drop([\"Name\",\"Code Duplication\",\"Debt\"], axis=1,inplace=True)\n",
        "x_all=x_all.values\n",
        "\n",
        "#Technical Debt values\n",
        "y= data.iloc[:,6].values"
      ],
      "execution_count": null,
      "outputs": []
    },
    {
      "cell_type": "markdown",
      "metadata": {
        "id": "cyA9MVJQw6Z4"
      },
      "source": [
        "# **Experiment-1** \n",
        "In this section, we will work with machine learning models that estimate Technical Debt using only internal metrics.\n",
        "\n",
        "First, we will divide the data into train and test sets and then run the models.\n",
        "\n",
        "Thanks to the functions we created in the \"Establishing Machine Learning By Using ML Regression Models\" section, we will not need to write machine learning codes over and over again. We will only send the necessary data as parameters to the function. After that, the functions will return the required values and graph to us."
      ]
    },
    {
      "cell_type": "code",
      "metadata": {
        "id": "Y5dIRQyL3-rM"
      },
      "source": [
        "X_train_internal, X_test_internal, y_train, y_test = train_test_split(x_internal, y, test_size = 0.3,random_state=random_state_fixed)"
      ],
      "execution_count": null,
      "outputs": []
    },
    {
      "cell_type": "code",
      "metadata": {
        "id": "ikhp_b2m3-pQ",
        "colab": {
          "base_uri": "https://localhost:8080/",
          "height": 314
        },
        "outputId": "4966e9ae-1571-47a9-9802-3058a875ec31"
      },
      "source": [
        "linearRegression(X_train_internal,y_train,X_test_internal,y_test)"
      ],
      "execution_count": null,
      "outputs": [
        {
          "output_type": "stream",
          "text": [
            "Linear Regression R^2: 0.13631458768684745\n",
            "Linear Regression- Root Mean Squared Error: 0.18577869455561458\n"
          ],
          "name": "stdout"
        },
        {
          "output_type": "display_data",
          "data": {
            "image/png": "[encoded data removed]",
            "text/plain": [
              "<Figure size 432x288 with 1 Axes>"
            ]
          },
          "metadata": {
            "tags": [],
            "needs_background": "light"
          }
        }
      ]
    },
    {
      "cell_type": "code",
      "metadata": {
        "id": "oioKCTWg3-li",
        "colab": {
          "base_uri": "https://localhost:8080/",
          "height": 50
        },
        "outputId": "500ca19f-5979-42b1-aba1-6959e452fb9b"
      },
      "source": [
        "svrRegression(X_train_internal,y_train,X_test_internal,y_test)\n"
      ],
      "execution_count": null,
      "outputs": [
        {
          "output_type": "stream",
          "text": [
            "linear  kernel - R-squared: 0.1328227586707036\n",
            "rbf  kernel - R-squared: 0.06693624069180171\n"
          ],
          "name": "stdout"
        }
      ]
    },
    {
      "cell_type": "code",
      "metadata": {
        "id": "uRbMn_Pg3-jd",
        "colab": {
          "base_uri": "https://localhost:8080/",
          "height": 314
        },
        "outputId": "28375056-f9e1-4425-9c51-a49abdb98852"
      },
      "source": [
        "decisionTreeRegression(X_train_internal,y_train,X_test_internal,y_test)"
      ],
      "execution_count": null,
      "outputs": [
        {
          "output_type": "stream",
          "text": [
            "Decision Tree Regression R^2: -1.008819423979781\n",
            "Decision Tree Regression- Root Mean Squared Error: 0.28332739209913343\n"
          ],
          "name": "stdout"
        },
        {
          "output_type": "display_data",
          "data": {
            "image/png": "[encoded data removed]",
            "text/plain": [
              "<Figure size 432x288 with 1 Axes>"
            ]
          },
          "metadata": {
            "tags": [],
            "needs_background": "light"
          }
        }
      ]
    },
    {
      "cell_type": "code",
      "metadata": {
        "id": "QVghCZXp3-hy",
        "colab": {
          "base_uri": "https://localhost:8080/",
          "height": 314
        },
        "outputId": "8e2a04d9-6339-4eea-90d8-135531ca247a"
      },
      "source": [
        "randomDecTreeRegression(X_train_internal,y_train,X_test_internal,y_test)"
      ],
      "execution_count": null,
      "outputs": [
        {
          "output_type": "stream",
          "text": [
            "Random Decision Tree Regression R^2: -0.054533568152297374\n",
            "Random Decision Tree Regression- Root Mean Squared Error: 0.20528079410117223\n"
          ],
          "name": "stdout"
        },
        {
          "output_type": "display_data",
          "data": {
            "image/png": "[encoded data removed]",
            "text/plain": [
              "<Figure size 432x288 with 1 Axes>"
            ]
          },
          "metadata": {
            "tags": [],
            "needs_background": "light"
          }
        }
      ]
    },
    {
      "cell_type": "code",
      "metadata": {
        "id": "R_n5bX1h3-gM",
        "colab": {
          "base_uri": "https://localhost:8080/",
          "height": 314
        },
        "outputId": "83cfbfad-5290-428b-ed9b-39cad11bfef6"
      },
      "source": [
        "mlpRegressor(X_train_internal,y_train,X_test_internal,y_test)"
      ],
      "execution_count": null,
      "outputs": [
        {
          "output_type": "stream",
          "text": [
            "Multi-layer Perceptron Regressor Regression R^2: 0.08332213580963233\n",
            "Random Decision Tree Regression- Root Mean Squared Error: 0.19139319251961803\n"
          ],
          "name": "stdout"
        },
        {
          "output_type": "display_data",
          "data": {
            "image/png": "[encoded data removed]",
            "text/plain": [
              "<Figure size 432x288 with 1 Axes>"
            ]
          },
          "metadata": {
            "tags": [],
            "needs_background": "light"
          }
        }
      ]
    },
    {
      "cell_type": "markdown",
      "metadata": {
        "id": "I_rdlML7zlWo"
      },
      "source": [
        "**Evaluation of Experiment-1**\n",
        "\n",
        "The models (which we trained using only internal metrics) did not give sufficiently precise results.\n",
        "\n",
        "> Best positive result is given by Linear Regressor(0.13)\n",
        "\n",
        "> Linear Kernel of the SVR also gave positive R^2 value (0.13)\n",
        "\n",
        "> RBF kernel of the SVR and MLP Regressor also gave positive R^2 values but they are too small\n",
        "\n",
        "> The other two DecisionTree-based models calculated R ^ 2 negatively.This can show that these two models don't fit our data very well\n",
        "\n",
        "In our analysis based on these models; We cannot make an exact judgment between Technical Debt and internal metrics. 3 models returned positive R ^ 2 values, while the other two models returned negative values. Therefore, we cannot make a definite judgment about the 13th hypothesis specific to these models."
      ]
    },
    {
      "cell_type": "code",
      "metadata": {
        "id": "FAWKOyQqzfyj"
      },
      "source": [
        ""
      ],
      "execution_count": null,
      "outputs": []
    },
    {
      "cell_type": "code",
      "metadata": {
        "id": "5oYLK9EMzf-7"
      },
      "source": [
        ""
      ],
      "execution_count": null,
      "outputs": []
    },
    {
      "cell_type": "code",
      "metadata": {
        "id": "X70aU76E3-cB"
      },
      "source": [
        ""
      ],
      "execution_count": null,
      "outputs": []
    },
    {
      "cell_type": "markdown",
      "metadata": {
        "id": "DEJx9C3Jp1dA"
      },
      "source": [
        "# **Experiment-2** \n",
        "In this section, we will work with machine learning models that try to predict Technical Debt using external metrics.\n",
        "\n",
        "As in the first experiment, we will first divide the data into train and test sets and then run our prediction algorithms."
      ]
    },
    {
      "cell_type": "code",
      "metadata": {
        "id": "OWynoUpl_LpD"
      },
      "source": [
        "X_train_external, X_test_external, y_train, y_test = train_test_split(x_external, y, test_size = 0.3,random_state=random_state_fixed)"
      ],
      "execution_count": null,
      "outputs": []
    },
    {
      "cell_type": "code",
      "metadata": {
        "id": "4y3fnnz0_Lmw",
        "colab": {
          "base_uri": "https://localhost:8080/",
          "height": 314
        },
        "outputId": "3024117c-a188-49b7-f682-22bd80e10d29"
      },
      "source": [
        "linearRegression(X_train_external,y_train,X_test_external,y_test)"
      ],
      "execution_count": null,
      "outputs": [
        {
          "output_type": "stream",
          "text": [
            "Linear Regression R^2: 0.915452378417856\n",
            "Linear Regression- Root Mean Squared Error: 0.058125782444788804\n"
          ],
          "name": "stdout"
        },
        {
          "output_type": "display_data",
          "data": {
            "image/png": "[encoded data removed]",
            "text/plain": [
              "<Figure size 432x288 with 1 Axes>"
            ]
          },
          "metadata": {
            "tags": [],
            "needs_background": "light"
          }
        }
      ]
    },
    {
      "cell_type": "code",
      "metadata": {
        "id": "dD-1O7IP_Lkq",
        "colab": {
          "base_uri": "https://localhost:8080/",
          "height": 50
        },
        "outputId": "c635e7af-e5d0-4de5-ed4f-449aab238778"
      },
      "source": [
        "svrRegression(X_train_external,y_train,X_test_external,y_test)"
      ],
      "execution_count": null,
      "outputs": [
        {
          "output_type": "stream",
          "text": [
            "linear  kernel - R-squared: 0.8405831146332071\n",
            "rbf  kernel - R-squared: 0.4383741845531993\n"
          ],
          "name": "stdout"
        }
      ]
    },
    {
      "cell_type": "code",
      "metadata": {
        "id": "gyNreFSJ_LiM",
        "colab": {
          "base_uri": "https://localhost:8080/",
          "height": 314
        },
        "outputId": "fa3838f8-2fd8-4d33-95f7-fd79c32ec301"
      },
      "source": [
        "decisionTreeRegression(X_train_external,y_train,X_test_external,y_test)"
      ],
      "execution_count": null,
      "outputs": [
        {
          "output_type": "stream",
          "text": [
            "Decision Tree Regression R^2: 0.5496495465366313\n",
            "Decision Tree Regression- Root Mean Squared Error: 0.13415084630318863\n"
          ],
          "name": "stdout"
        },
        {
          "output_type": "display_data",
          "data": {
            "image/png": "[encoded data removed]",
            "text/plain": [
              "<Figure size 432x288 with 1 Axes>"
            ]
          },
          "metadata": {
            "tags": [],
            "needs_background": "light"
          }
        }
      ]
    },
    {
      "cell_type": "code",
      "metadata": {
        "id": "CXdCCVF9_Lgj",
        "colab": {
          "base_uri": "https://localhost:8080/",
          "height": 314
        },
        "outputId": "e7496433-9816-43fd-9cc1-7f52a192e319"
      },
      "source": [
        "randomDecTreeRegression(X_train_external,y_train,X_test_external,y_test)"
      ],
      "execution_count": null,
      "outputs": [
        {
          "output_type": "stream",
          "text": [
            "Random Decision Tree Regression R^2: 0.7529687482829753\n",
            "Random Decision Tree Regression- Root Mean Squared Error: 0.09935599206000759\n"
          ],
          "name": "stdout"
        },
        {
          "output_type": "display_data",
          "data": {
            "image/png": "[encoded data removed]",
            "text/plain": [
              "<Figure size 432x288 with 1 Axes>"
            ]
          },
          "metadata": {
            "tags": [],
            "needs_background": "light"
          }
        }
      ]
    },
    {
      "cell_type": "code",
      "metadata": {
        "id": "_JCoFHOq_Lei",
        "colab": {
          "base_uri": "https://localhost:8080/",
          "height": 314
        },
        "outputId": "75c882ed-8b75-4b48-a873-813ec96942a4"
      },
      "source": [
        "mlpRegressor(X_train_external,y_train,X_test_external,y_test)"
      ],
      "execution_count": null,
      "outputs": [
        {
          "output_type": "stream",
          "text": [
            "Multi-layer Perceptron Regressor Regression R^2: 0.6855202404511007\n",
            "Random Decision Tree Regression- Root Mean Squared Error: 0.11210228474381544\n"
          ],
          "name": "stdout"
        },
        {
          "output_type": "display_data",
          "data": {
            "image/png": "[encoded data removed]",
            "text/plain": [
              "<Figure size 432x288 with 1 Axes>"
            ]
          },
          "metadata": {
            "tags": [],
            "needs_background": "light"
          }
        }
      ]
    },
    {
      "cell_type": "markdown",
      "metadata": {
        "id": "gsaK_fSc4VJF"
      },
      "source": [
        "**Evaluation of Experiment-2**\n",
        "\n",
        "In this experiment, we see that all machine learning models have a good R ^ 2 value. For this type of researches, R ^ 2 value exceeding 0.3 is generally considered good.\n",
        "\n",
        "In this case, we can see that there is a serious relationship between external trustworthiness and Technical debt.\n",
        "\n",
        "Based on the results of this experiment, we can validate Hypothesis 14:\n",
        "> **H14**- Software components with technical debt less likely indicate a trustworthy software with respect to external trustworthiness"
      ]
    },
    {
      "cell_type": "code",
      "metadata": {
        "id": "xHP1X9Z9phPl"
      },
      "source": [
        ""
      ],
      "execution_count": null,
      "outputs": []
    },
    {
      "cell_type": "code",
      "metadata": {
        "id": "Dpk3u2cRqAFT"
      },
      "source": [
        ""
      ],
      "execution_count": null,
      "outputs": []
    },
    {
      "cell_type": "markdown",
      "metadata": {
        "id": "VFtnLsHJqAWM"
      },
      "source": [
        "# **Experiment-3** \n",
        "\n",
        "In this section, we will try to estimate Technical Debt using all internal and external metrics.\n",
        "\n",
        "In the second experiment, within the scope of the results we obtained, we saw that there is a significant relationship between External trustworthiness and Technical Debt.\n",
        "In this experiment, we will see if we can get better results than in experiment 2 by using all internal and external metrics together.\n",
        "\n",
        "If we can get better results, we can prove that there is also a significant relationship between internal trustworthiness and Technical debt."
      ]
    },
    {
      "cell_type": "code",
      "metadata": {
        "id": "t0YbWzOCph0O"
      },
      "source": [
        "X_train_all, X_test_all, y_train, y_test = train_test_split(x_all, y, test_size = 0.3,random_state=random_state_fixed)"
      ],
      "execution_count": null,
      "outputs": []
    },
    {
      "cell_type": "code",
      "metadata": {
        "id": "qUE_tN3-phLA",
        "colab": {
          "base_uri": "https://localhost:8080/",
          "height": 314
        },
        "outputId": "0bd7b1f5-cf69-4ecf-fa16-96f2b5d8cd26"
      },
      "source": [
        "linearRegression(X_train_all,y_train,X_test_all,y_test)"
      ],
      "execution_count": null,
      "outputs": [
        {
          "output_type": "stream",
          "text": [
            "Linear Regression R^2: 0.9044898683161023\n",
            "Linear Regression- Root Mean Squared Error: 0.06177927914396809\n"
          ],
          "name": "stdout"
        },
        {
          "output_type": "display_data",
          "data": {
            "image/png": "[encoded data removed]",
            "text/plain": [
              "<Figure size 432x288 with 1 Axes>"
            ]
          },
          "metadata": {
            "tags": [],
            "needs_background": "light"
          }
        }
      ]
    },
    {
      "cell_type": "code",
      "metadata": {
        "id": "8DMCiKR4_LZA",
        "colab": {
          "base_uri": "https://localhost:8080/",
          "height": 50
        },
        "outputId": "e80ed449-1875-4893-b679-2274de864191"
      },
      "source": [
        "svrRegression(X_train_all,y_train,X_test_all,y_test)"
      ],
      "execution_count": null,
      "outputs": [
        {
          "output_type": "stream",
          "text": [
            "linear  kernel - R-squared: 0.8655736212214604\n",
            "rbf  kernel - R-squared: 0.6237317453905658\n"
          ],
          "name": "stdout"
        }
      ]
    },
    {
      "cell_type": "code",
      "metadata": {
        "id": "rg9MEDse_8Eq",
        "colab": {
          "base_uri": "https://localhost:8080/",
          "height": 314
        },
        "outputId": "2af2d32e-7d2f-4508-e59a-09e1e463ee5a"
      },
      "source": [
        "decisionTreeRegression(X_train_all,y_train,X_test_all,y_test)"
      ],
      "execution_count": null,
      "outputs": [
        {
          "output_type": "stream",
          "text": [
            "Decision Tree Regression R^2: 0.7655199899362891\n",
            "Decision Tree Regression- Root Mean Squared Error: 0.0967990347435226\n"
          ],
          "name": "stdout"
        },
        {
          "output_type": "display_data",
          "data": {
            "image/png": "[encoded data removed]",
            "text/plain": [
              "<Figure size 432x288 with 1 Axes>"
            ]
          },
          "metadata": {
            "tags": [],
            "needs_background": "light"
          }
        }
      ]
    },
    {
      "cell_type": "code",
      "metadata": {
        "id": "PiZM7ufN_8CQ",
        "colab": {
          "base_uri": "https://localhost:8080/",
          "height": 314
        },
        "outputId": "5bbf2d27-cea1-4025-c29d-522d9497626d"
      },
      "source": [
        "randomDecTreeRegression(X_train_all,y_train,X_test_all,y_test)"
      ],
      "execution_count": null,
      "outputs": [
        {
          "output_type": "stream",
          "text": [
            "Random Decision Tree Regression R^2: 0.783279431017217\n",
            "Random Decision Tree Regression- Root Mean Squared Error: 0.09306109979872579\n"
          ],
          "name": "stdout"
        },
        {
          "output_type": "display_data",
          "data": {
            "image/png": "[encoded data removed]",
            "text/plain": [
              "<Figure size 432x288 with 1 Axes>"
            ]
          },
          "metadata": {
            "tags": [],
            "needs_background": "light"
          }
        }
      ]
    },
    {
      "cell_type": "code",
      "metadata": {
        "id": "24vR1rXgq7Wt",
        "colab": {
          "base_uri": "https://localhost:8080/",
          "height": 314
        },
        "outputId": "d2fe3752-4ffe-41c2-8981-6ba43033ad14"
      },
      "source": [
        "mlpRegressor(X_train_all,y_train,X_test_all,y_test)"
      ],
      "execution_count": null,
      "outputs": [
        {
          "output_type": "stream",
          "text": [
            "Multi-layer Perceptron Regressor Regression R^2: 0.8068956242591833\n",
            "Random Decision Tree Regression- Root Mean Squared Error: 0.08784441846199804\n"
          ],
          "name": "stdout"
        },
        {
          "output_type": "display_data",
          "data": {
            "image/png": "[encoded data removed]",
            "text/plain": [
              "<Figure size 432x288 with 1 Axes>"
            ]
          },
          "metadata": {
            "tags": [],
            "needs_background": "light"
          }
        }
      ]
    },
    {
      "cell_type": "markdown",
      "metadata": {
        "id": "KBSE0oPKmBOs"
      },
      "source": [
        "**Evaluation of Experiment-3**\n",
        "\n",
        "\n",
        "When we examine Experiment-2 and Experiment-3, we see that the prediction results in the third experiment are better. The only exception is in the Linear Regression model. This model gave better results in the second experiment (ie with external metrics only).\n",
        "\n",
        "The reason for this is clear when we look at the correlation table. There is a serious relationship between the Code Smells metric and the Technical Debt metric.\n",
        "There is a relationship between these two values very similar to the Linear relationship. To prove this, let's examine the graph below:"
      ]
    },
    {
      "cell_type": "code",
      "metadata": {
        "id": "2rRTEI5ot_0l",
        "colab": {
          "base_uri": "https://localhost:8080/",
          "height": 346
        },
        "outputId": "7951008e-db1a-4d9e-fd74-43fd67d70a62"
      },
      "source": [
        "plt.scatter(data.iloc[:, 4],data.iloc[:, 6],color=\"b\",s=200, cmap='viridis')\n",
        "plt.xlabel(\"Code Smells\t\")\n",
        "plt.ylabel(\"Debt\")\n",
        "plt.show()"
      ],
      "execution_count": null,
      "outputs": [
        {
          "output_type": "stream",
          "text": [
            "/usr/local/lib/python3.6/dist-packages/matplotlib/backends/backend_agg.py:214: RuntimeWarning: Glyph 9 missing from current font.\n",
            "  font.set_text(s, 0.0, flags=flags)\n",
            "/usr/local/lib/python3.6/dist-packages/matplotlib/backends/backend_agg.py:183: RuntimeWarning: Glyph 9 missing from current font.\n",
            "  font.set_text(s, 0, flags=flags)\n"
          ],
          "name": "stderr"
        },
        {
          "output_type": "display_data",
          "data": {
            "image/png": "[encoded data removed]",
            "text/plain": [
              "<Figure size 432x288 with 1 Axes>"
            ]
          },
          "metadata": {
            "tags": [],
            "needs_background": "light"
          }
        }
      ]
    },
    {
      "cell_type": "markdown",
      "metadata": {
        "id": "jU5gEXmfnSxL"
      },
      "source": [
        "As seen in the graph, there is a very similar connection between Code Smells and Debt as a linear relationship.\n",
        "\n",
        "Therefore, Linear Regression in the second experiment is highly dependent on the Code Smells value. In Experiment-3, on the other hand, since we added 10 different internal metrics, the general model moves away from the linear line. For this reason, Linear Regression gives a worse result.\n",
        "\n",
        "All other models in Experiment-3 give better predictive results than Experiment-2. In this case, we can say that internal metrics have a positive effect on the models."
      ]
    },
    {
      "cell_type": "markdown",
      "metadata": {
        "id": "iLqc3MvJpPXd"
      },
      "source": [
        "We can talk about a definite relationship between external metrics and Technical Debt (Experiment-2).\n",
        "\n",
        "Although we cannot talk about such a definite statement for Internal metrics, we can see that it has a small positive effect when estimating Technical Debt. However, this judgment largely depends on the distribution of the data and the splitting of the test and train sets.\n"
      ]
    },
    {
      "cell_type": "code",
      "metadata": {
        "id": "TJifN6IzpOh8"
      },
      "source": [
        ""
      ],
      "execution_count": null,
      "outputs": []
    }
  ]
}